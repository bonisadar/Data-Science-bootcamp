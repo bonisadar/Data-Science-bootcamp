{
 "cells": [
  {
   "cell_type": "code",
   "execution_count": 1,
   "id": "2d2287cd-29dc-4bc3-8e4b-f106562048be",
   "metadata": {},
   "outputs": [
    {
     "data": {
      "text/plain": [
       "4"
      ]
     },
     "execution_count": 1,
     "metadata": {},
     "output_type": "execute_result"
    }
   ],
   "source": [
    "2 + 2"
   ]
  },
  {
   "cell_type": "code",
   "execution_count": 1,
   "id": "9f8602b1-2c5a-4cce-8b26-5666d319035d",
   "metadata": {},
   "outputs": [],
   "source": [
    "s = '34'"
   ]
  },
  {
   "cell_type": "code",
   "execution_count": 2,
   "id": "c4a125f6-c7aa-49cc-844c-78f54a017b17",
   "metadata": {},
   "outputs": [],
   "source": [
    "int_val = int(s)"
   ]
  },
  {
   "cell_type": "code",
   "execution_count": 4,
   "id": "b41ad4d3-873f-4c08-9c31-2bc14a558d2f",
   "metadata": {},
   "outputs": [
    {
     "name": "stdout",
     "output_type": "stream",
     "text": [
      "37\n"
     ]
    }
   ],
   "source": [
    "result = 3 + int_val\n",
    "print(result)"
   ]
  },
  {
   "cell_type": "code",
   "execution_count": 5,
   "id": "9ba9138e-fc91-4f10-953a-aa695343873c",
   "metadata": {},
   "outputs": [],
   "source": [
    "new_result = result + int(\"45\")"
   ]
  },
  {
   "cell_type": "code",
   "execution_count": 6,
   "id": "9bc2f695-bfda-432f-951c-099f63662dea",
   "metadata": {},
   "outputs": [
    {
     "name": "stdout",
     "output_type": "stream",
     "text": [
      "82\n"
     ]
    }
   ],
   "source": [
    "print(new_result)"
   ]
  },
  {
   "cell_type": "code",
   "execution_count": 7,
   "id": "ee3d7463-36d6-4e8c-8147-e0a6d63beeeb",
   "metadata": {},
   "outputs": [],
   "source": [
    "result_new_branch = 32 + 52"
   ]
  },
  {
   "cell_type": "code",
   "execution_count": 8,
   "id": "165c3c13-698e-4465-bd76-0544249fb3ea",
   "metadata": {},
   "outputs": [
    {
     "name": "stdout",
     "output_type": "stream",
     "text": [
      "84\n"
     ]
    }
   ],
   "source": [
    "print(result_new_branch)"
   ]
  },
  {
   "cell_type": "code",
   "execution_count": null,
   "id": "737c9414-2185-494e-9823-c84558520eac",
   "metadata": {},
   "outputs": [],
   "source": []
  }
 ],
 "metadata": {
  "kernelspec": {
   "display_name": "Python 3 (ipykernel)",
   "language": "python",
   "name": "python3"
  },
  "language_info": {
   "codemirror_mode": {
    "name": "ipython",
    "version": 3
   },
   "file_extension": ".py",
   "mimetype": "text/x-python",
   "name": "python",
   "nbconvert_exporter": "python",
   "pygments_lexer": "ipython3",
   "version": "3.11.9"
  }
 },
 "nbformat": 4,
 "nbformat_minor": 5
}
