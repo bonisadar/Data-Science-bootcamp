{
 "cells": [
  {
   "cell_type": "markdown",
   "id": "f7418a46-d884-4134-8b57-d249c24ebca8",
   "metadata": {},
   "source": [
    "## Contents<a id='3.1_Contents'></a>\n",
    "* [2 Exploratory Data Analysis](#2_Exploratory_Data_Analysis)\n",
    "  * [2.1 Introduction](#2.1_Introduction)\n",
    "  * [2.2 Imports](#2.2-Imports)\n",
    "  * [2.3 Load the data](#2.3-Load-the-data)\n",
    "  * [2.4 Removing prefixes](#2.4-Removing-prefixes)\n",
    "  * [2.5 Extracting the host part](#2.5-Extracting-the-host-part)\n",
    "  * [2.6 Feature Creation](#2.6-Feature-Creation)\n",
    "    * [2.6.1 URL and ext_host length](#2.6.1-URL-and-ext_host-length)\n",
    "    * [2.6.2 URL containing IP address](#2.6.2-URL-containing-IP-address)\n",
    "    * [2.6.3 Containing java script queries](#2.6.3-Containing-java-script-queries)\n",
    "    * [2.6.4 Finding number-dot pattern](#2.6.4-Finding-number-dot-pattern)\n",
    "    * [2.6.5 Capital letters in host](#2.6.5-Capital-letters-in-host)\n",
    "    * [2.6.6 Capital letters in url](#2.6.6-Capital-letters-in-url)\n",
    "    * [2.6.7 Calculating Shannon entropy](#2.6.7-Calculating-Shannon-entropy)\n",
    "      * [2.6.7.1 Calculating Shannon entropy for url](#2.6.7.1-Calculating-Shannon-entropy-for-url)\n",
    "      * [2.6.7.2 Calculating Shannon entropy for ext_host](#2.6.7.2-Calculating-Shannon-entropy-for-ext_host)\n",
    "    * [2.6.8 Calculating alphabet based ratios](#2.6.8-Calculating-alphabet-based-ratios)\n",
    "      * [2.6.8.1 Calculating character to number ratio in url](#2.6.8.1-Calculating-character-to-number-ratio-in-url)\n",
    "      * [2.6.8.2 Calculating character to special characters ratio in url](#2.6.8.2-Calculating-character-to-special-characters-ratio-in-url)\n",
    "      * [2.6.8.3 Calculating character to number ratio in host](#2.6.8.3-Calculating-character-to-number-ratio-in-host)\n",
    "      * [2.6.8.4 Calculating character to special characters ratio in host](#2.6.8.4-Calculating-character-to-special-characters-ratio-in-host)\n",
    "    * [2.6.9 Detecting obfuscation](#2.6.9-Detecting-obfuscation)\n",
    "      * [2.6.9.1 Detecting obfuscation in url](#2.6.9.1-Detecting-obfuscation-in-url)\n",
    "      * [2.6.9.2 Detecting obfuscation in host](#2.6.9.2-Detecting-obfuscation-in-host)\n",
    "    * [2.6.10 Calculating entropy of random substring](#2.6.10-Calculating-entropy-of-random-substring)\n",
    "      * [2.6.10.1 Calculating entropy of random substring in url](#2.6.10.1-Calculating-entropy-of-random-substring-in-url)\n",
    "      * [2.6.10.2 Calculating entropy of random substring in host](#2.6.10.2-Calculating-entropy-of-random-substring-in-host)\n",
    "    * [2.6.11 The number of individual special chracters](#2.6.11-The-number-of-individual-special-chracters)"
   ]
  },
  {
   "cell_type": "markdown",
   "id": "2955f4f1-ca6d-4478-b554-510a03fa3489",
   "metadata": {},
   "source": [
    "# 2.1 Introduction"
   ]
  },
  {
   "cell_type": "markdown",
   "id": "8d8eb3b0-bcba-4e33-9fb8-9fd691ade453",
   "metadata": {},
   "source": [
    "In search for a comprehensive dataset containing both phishing and legitimate urls, previously we came across some datasets that has many useful features. But one of the dataset contained the problem of encoding. Most probably the problem was due to a data corruption which may occure during the data scraping phase. There was another dataset which features can not explained how they are generated.\n",
    "This dataset that we are working with is added a year ago in the Kaggle the author made a good effort to make this comprehensive.\n",
    "As we have seen previously our dataset does not have much missing values or inconsistencies that needed to taken care of. But our data does not contains any features also that can be used to predict the phishing urls. So, we start feature engineering."
   ]
  },
  {
   "cell_type": "markdown",
   "id": "07876d63-03a6-446d-9883-334b7a21b562",
   "metadata": {},
   "source": [
    "# 2.2 Imports"
   ]
  },
  {
   "cell_type": "code",
   "execution_count": 5,
   "id": "f890eeae-727f-43f5-a40a-c6cca28f5c09",
   "metadata": {},
   "outputs": [],
   "source": [
    "import pandas as pd\n",
    "import numpy as np\n",
    "import re\n",
    "from math import log2\n",
    "from nltk.corpus import words\n",
    "import nltk"
   ]
  },
  {
   "cell_type": "markdown",
   "id": "37b26699-d681-427d-ae5f-135142989806",
   "metadata": {},
   "source": [
    "# 2.3 Load the data"
   ]
  },
  {
   "cell_type": "code",
   "execution_count": 7,
   "id": "55994e8e-b0f5-44f8-bd31-11585bdf5b79",
   "metadata": {},
   "outputs": [],
   "source": [
    "df = pd.read_csv('../data/processed/url_new_cleaned.csv', index_col=0)"
   ]
  },
  {
   "cell_type": "code",
   "execution_count": 8,
   "id": "395d9693-5cc7-4324-83cb-5754f875576c",
   "metadata": {},
   "outputs": [
    {
     "data": {
      "text/html": [
       "<div>\n",
       "<style scoped>\n",
       "    .dataframe tbody tr th:only-of-type {\n",
       "        vertical-align: middle;\n",
       "    }\n",
       "\n",
       "    .dataframe tbody tr th {\n",
       "        vertical-align: top;\n",
       "    }\n",
       "\n",
       "    .dataframe thead th {\n",
       "        text-align: right;\n",
       "    }\n",
       "</style>\n",
       "<table border=\"1\" class=\"dataframe\">\n",
       "  <thead>\n",
       "    <tr style=\"text-align: right;\">\n",
       "      <th></th>\n",
       "      <th>url</th>\n",
       "      <th>status</th>\n",
       "    </tr>\n",
       "  </thead>\n",
       "  <tbody>\n",
       "    <tr>\n",
       "      <th>0</th>\n",
       "      <td>0000111servicehelpdesk.godaddysites.com</td>\n",
       "      <td>0</td>\n",
       "    </tr>\n",
       "    <tr>\n",
       "      <th>1</th>\n",
       "      <td>000011accesswebform.godaddysites.com</td>\n",
       "      <td>0</td>\n",
       "    </tr>\n",
       "    <tr>\n",
       "      <th>2</th>\n",
       "      <td>00003.online</td>\n",
       "      <td>0</td>\n",
       "    </tr>\n",
       "    <tr>\n",
       "      <th>3</th>\n",
       "      <td>0009servicedeskowa.godaddysites.com</td>\n",
       "      <td>0</td>\n",
       "    </tr>\n",
       "    <tr>\n",
       "      <th>4</th>\n",
       "      <td>000n38p.wcomhost.com</td>\n",
       "      <td>0</td>\n",
       "    </tr>\n",
       "  </tbody>\n",
       "</table>\n",
       "</div>"
      ],
      "text/plain": [
       "                                       url  status\n",
       "0  0000111servicehelpdesk.godaddysites.com       0\n",
       "1     000011accesswebform.godaddysites.com       0\n",
       "2                             00003.online       0\n",
       "3      0009servicedeskowa.godaddysites.com       0\n",
       "4                     000n38p.wcomhost.com       0"
      ]
     },
     "execution_count": 8,
     "metadata": {},
     "output_type": "execute_result"
    }
   ],
   "source": [
    "df.head()"
   ]
  },
  {
   "cell_type": "markdown",
   "id": "550e8760-9547-4877-9940-a5205c057352",
   "metadata": {},
   "source": [
    "# 2.4 Removing prefixes"
   ]
  },
  {
   "cell_type": "markdown",
   "id": "bc1c8388-07cf-4450-8eba-9a4e319a58fc",
   "metadata": {},
   "source": [
    "This step is performed to make the observations more balanced in terms of content. As the urls are scraped from the internet there might be some errors during the scraping process that might have caused the loss of https:// or www from the beginning. As we want to make our predictive model robust we do not want to bias our prediction based on the presence of the https:// or www."
   ]
  },
  {
   "cell_type": "code",
   "execution_count": 10,
   "id": "98e1a603-5db8-4b88-add2-98a192db7207",
   "metadata": {},
   "outputs": [],
   "source": [
    "# Remove prefixes (http://, https://)\n",
    "df['url'] = df['url'].str.replace(r'^(http://|https://|https|http)', '', regex=True)"
   ]
  },
  {
   "cell_type": "code",
   "execution_count": 11,
   "id": "f354eb90-fcd9-41bf-8b5a-ccc6c7937139",
   "metadata": {},
   "outputs": [],
   "source": [
    "# Remove '.' \n",
    "df['url'] = df['url'].str.lstrip('.')"
   ]
  },
  {
   "cell_type": "code",
   "execution_count": 12,
   "id": "3f33997b-9fde-49cc-8383-c1ef03d1fcfb",
   "metadata": {},
   "outputs": [],
   "source": [
    "# Remove 'www.' prefix explicitly\n",
    "df['url'] = df['url'].str.replace(r'^(www|www1|www2|www3|www4)', '', regex=True)"
   ]
  },
  {
   "cell_type": "code",
   "execution_count": 13,
   "id": "34ff60f6-450c-4f1a-8802-fd527d52b473",
   "metadata": {},
   "outputs": [],
   "source": [
    "# Remove '.' \n",
    "df['url'] = df['url'].str.lstrip('.')"
   ]
  },
  {
   "cell_type": "code",
   "execution_count": 14,
   "id": "000a8154-dc8f-422f-a808-901a2ec8ceb3",
   "metadata": {},
   "outputs": [
    {
     "data": {
      "text/html": [
       "<div>\n",
       "<style scoped>\n",
       "    .dataframe tbody tr th:only-of-type {\n",
       "        vertical-align: middle;\n",
       "    }\n",
       "\n",
       "    .dataframe tbody tr th {\n",
       "        vertical-align: top;\n",
       "    }\n",
       "\n",
       "    .dataframe thead th {\n",
       "        text-align: right;\n",
       "    }\n",
       "</style>\n",
       "<table border=\"1\" class=\"dataframe\">\n",
       "  <thead>\n",
       "    <tr style=\"text-align: right;\">\n",
       "      <th></th>\n",
       "      <th>url</th>\n",
       "      <th>status</th>\n",
       "    </tr>\n",
       "  </thead>\n",
       "  <tbody>\n",
       "    <tr>\n",
       "      <th>712113</th>\n",
       "      <td>http2.github.io/http2-spec/</td>\n",
       "      <td>1</td>\n",
       "    </tr>\n",
       "    <tr>\n",
       "      <th>712118</th>\n",
       "      <td>httpd.apache.org/docs/2.4/programs/httpd.html</td>\n",
       "      <td>1</td>\n",
       "    </tr>\n",
       "  </tbody>\n",
       "</table>\n",
       "</div>"
      ],
      "text/plain": [
       "                                                  url  status\n",
       "712113                    http2.github.io/http2-spec/       1\n",
       "712118  httpd.apache.org/docs/2.4/programs/httpd.html       1"
      ]
     },
     "execution_count": 14,
     "metadata": {},
     "output_type": "execute_result"
    }
   ],
   "source": [
    "df[(df['url'].str.startswith('http', 'www')) & (df.status == 1)]"
   ]
  },
  {
   "cell_type": "code",
   "execution_count": 15,
   "id": "d39eec59-7bb1-44bb-b0d1-39928f71a08b",
   "metadata": {},
   "outputs": [
    {
     "data": {
      "text/html": [
       "<div>\n",
       "<style scoped>\n",
       "    .dataframe tbody tr th:only-of-type {\n",
       "        vertical-align: middle;\n",
       "    }\n",
       "\n",
       "    .dataframe tbody tr th {\n",
       "        vertical-align: top;\n",
       "    }\n",
       "\n",
       "    .dataframe thead th {\n",
       "        text-align: right;\n",
       "    }\n",
       "</style>\n",
       "<table border=\"1\" class=\"dataframe\">\n",
       "  <thead>\n",
       "    <tr style=\"text-align: right;\">\n",
       "      <th></th>\n",
       "      <th>url</th>\n",
       "      <th>status</th>\n",
       "    </tr>\n",
       "  </thead>\n",
       "  <tbody>\n",
       "    <tr>\n",
       "      <th>28727</th>\n",
       "      <td>httpdmcaremoval-9742697748.info-protech.be/con...</td>\n",
       "      <td>0</td>\n",
       "    </tr>\n",
       "    <tr>\n",
       "      <th>29135</th>\n",
       "      <td>httpsservices.runescape.com-n.ru/</td>\n",
       "      <td>0</td>\n",
       "    </tr>\n",
       "    <tr>\n",
       "      <th>29160</th>\n",
       "      <td>httpdmcaremoval-2883901933.info-protech.be/con...</td>\n",
       "      <td>0</td>\n",
       "    </tr>\n",
       "    <tr>\n",
       "      <th>29883</th>\n",
       "      <td>httpsservices.runescape.com-no.ru/</td>\n",
       "      <td>0</td>\n",
       "    </tr>\n",
       "    <tr>\n",
       "      <th>29989</th>\n",
       "      <td>httpsservices.runescape.com-ov.ru/</td>\n",
       "      <td>0</td>\n",
       "    </tr>\n",
       "    <tr>\n",
       "      <th>...</th>\n",
       "      <td>...</td>\n",
       "      <td>...</td>\n",
       "    </tr>\n",
       "    <tr>\n",
       "      <th>731033</th>\n",
       "      <td>https-impots-gouve-fr.com/impots.gouv/Impots-e...</td>\n",
       "      <td>0</td>\n",
       "    </tr>\n",
       "    <tr>\n",
       "      <th>737627</th>\n",
       "      <td>https.www.payypal.com.resolution.center.limita...</td>\n",
       "      <td>0</td>\n",
       "    </tr>\n",
       "    <tr>\n",
       "      <th>737628</th>\n",
       "      <td>https.www.payypal.com.resolution.center.limita...</td>\n",
       "      <td>0</td>\n",
       "    </tr>\n",
       "    <tr>\n",
       "      <th>737629</th>\n",
       "      <td>https.www.payppal.com.resolution.center.limita...</td>\n",
       "      <td>0</td>\n",
       "    </tr>\n",
       "    <tr>\n",
       "      <th>737630</th>\n",
       "      <td>https.www.payppal.com.resolution.center.limita...</td>\n",
       "      <td>0</td>\n",
       "    </tr>\n",
       "  </tbody>\n",
       "</table>\n",
       "<p>73 rows × 2 columns</p>\n",
       "</div>"
      ],
      "text/plain": [
       "                                                      url  status\n",
       "28727   httpdmcaremoval-9742697748.info-protech.be/con...       0\n",
       "29135                   httpsservices.runescape.com-n.ru/       0\n",
       "29160   httpdmcaremoval-2883901933.info-protech.be/con...       0\n",
       "29883                  httpsservices.runescape.com-no.ru/       0\n",
       "29989                  httpsservices.runescape.com-ov.ru/       0\n",
       "...                                                   ...     ...\n",
       "731033  https-impots-gouve-fr.com/impots.gouv/Impots-e...       0\n",
       "737627  https.www.payypal.com.resolution.center.limita...       0\n",
       "737628  https.www.payypal.com.resolution.center.limita...       0\n",
       "737629  https.www.payppal.com.resolution.center.limita...       0\n",
       "737630  https.www.payppal.com.resolution.center.limita...       0\n",
       "\n",
       "[73 rows x 2 columns]"
      ]
     },
     "execution_count": 15,
     "metadata": {},
     "output_type": "execute_result"
    }
   ],
   "source": [
    "df[(df['url'].str.startswith('http', 'www')) & (df.status == 0)]"
   ]
  },
  {
   "cell_type": "markdown",
   "id": "e3e903fa-3dc2-4b42-98eb-f9923fd4e5f3",
   "metadata": {},
   "source": [
    "# 2.5 Extracting the host part"
   ]
  },
  {
   "cell_type": "markdown",
   "id": "d7620087-5a49-4ec8-9e84-157b35ef67c2",
   "metadata": {},
   "source": [
    "Some of the urls contains path and some do not. So, we want to extract the host part (domain, subdomain, top level domain) that must be common on every url and generate some feature based on the host part to make the model more generalized on unseen data."
   ]
  },
  {
   "cell_type": "code",
   "execution_count": 17,
   "id": "48e76b16-093d-46af-9672-90172150d9bc",
   "metadata": {},
   "outputs": [],
   "source": [
    "# Extracted the host part (containing domain, subdomian, tld, port etc.)\n",
    "df['ext_host'] = df['url'].str.split('/').str[0]"
   ]
  },
  {
   "cell_type": "code",
   "execution_count": 18,
   "id": "623bd572-356d-4f3f-bede-cd8e36276171",
   "metadata": {},
   "outputs": [
    {
     "data": {
      "text/html": [
       "<div>\n",
       "<style scoped>\n",
       "    .dataframe tbody tr th:only-of-type {\n",
       "        vertical-align: middle;\n",
       "    }\n",
       "\n",
       "    .dataframe tbody tr th {\n",
       "        vertical-align: top;\n",
       "    }\n",
       "\n",
       "    .dataframe thead th {\n",
       "        text-align: right;\n",
       "    }\n",
       "</style>\n",
       "<table border=\"1\" class=\"dataframe\">\n",
       "  <thead>\n",
       "    <tr style=\"text-align: right;\">\n",
       "      <th></th>\n",
       "      <th>url</th>\n",
       "      <th>status</th>\n",
       "      <th>ext_host</th>\n",
       "    </tr>\n",
       "  </thead>\n",
       "  <tbody>\n",
       "    <tr>\n",
       "      <th>822005</th>\n",
       "      <td>zzufg.com</td>\n",
       "      <td>0</td>\n",
       "      <td>zzufg.com</td>\n",
       "    </tr>\n",
       "    <tr>\n",
       "      <th>822006</th>\n",
       "      <td>zzu.li</td>\n",
       "      <td>0</td>\n",
       "      <td>zzu.li</td>\n",
       "    </tr>\n",
       "    <tr>\n",
       "      <th>822007</th>\n",
       "      <td>zzz.co.uk</td>\n",
       "      <td>0</td>\n",
       "      <td>zzz.co.uk</td>\n",
       "    </tr>\n",
       "    <tr>\n",
       "      <th>822008</th>\n",
       "      <td>zzzoolight.co.za</td>\n",
       "      <td>0</td>\n",
       "      <td>zzzoolight.co.za</td>\n",
       "    </tr>\n",
       "    <tr>\n",
       "      <th>822009</th>\n",
       "      <td>zzzoolight.co.za0-i-fdik.000webhostapp.com</td>\n",
       "      <td>0</td>\n",
       "      <td>zzzoolight.co.za0-i-fdik.000webhostapp.com</td>\n",
       "    </tr>\n",
       "  </tbody>\n",
       "</table>\n",
       "</div>"
      ],
      "text/plain": [
       "                                               url  status  \\\n",
       "822005                                   zzufg.com       0   \n",
       "822006                                      zzu.li       0   \n",
       "822007                                   zzz.co.uk       0   \n",
       "822008                            zzzoolight.co.za       0   \n",
       "822009  zzzoolight.co.za0-i-fdik.000webhostapp.com       0   \n",
       "\n",
       "                                          ext_host  \n",
       "822005                                   zzufg.com  \n",
       "822006                                      zzu.li  \n",
       "822007                                   zzz.co.uk  \n",
       "822008                            zzzoolight.co.za  \n",
       "822009  zzzoolight.co.za0-i-fdik.000webhostapp.com  "
      ]
     },
     "execution_count": 18,
     "metadata": {},
     "output_type": "execute_result"
    }
   ],
   "source": [
    "df.tail()"
   ]
  },
  {
   "cell_type": "code",
   "execution_count": 19,
   "id": "b674366c-63b2-4a0c-9159-1ffe22224d16",
   "metadata": {},
   "outputs": [],
   "source": [
    "def host_end(url):\n",
    "    '''To find any trailing dots in the extracted host'''\n",
    "    return url.endswith('.')"
   ]
  },
  {
   "cell_type": "code",
   "execution_count": 20,
   "id": "9a596d5f-6510-48e7-9ff2-1923b2bbe4c8",
   "metadata": {},
   "outputs": [
    {
     "data": {
      "text/html": [
       "<div>\n",
       "<style scoped>\n",
       "    .dataframe tbody tr th:only-of-type {\n",
       "        vertical-align: middle;\n",
       "    }\n",
       "\n",
       "    .dataframe tbody tr th {\n",
       "        vertical-align: top;\n",
       "    }\n",
       "\n",
       "    .dataframe thead th {\n",
       "        text-align: right;\n",
       "    }\n",
       "</style>\n",
       "<table border=\"1\" class=\"dataframe\">\n",
       "  <thead>\n",
       "    <tr style=\"text-align: right;\">\n",
       "      <th></th>\n",
       "      <th>url</th>\n",
       "      <th>status</th>\n",
       "      <th>ext_host</th>\n",
       "    </tr>\n",
       "  </thead>\n",
       "  <tbody>\n",
       "    <tr>\n",
       "      <th>12297</th>\n",
       "      <td>ijhriogjef2831g.club.</td>\n",
       "      <td>0</td>\n",
       "      <td>ijhriogjef2831g.club.</td>\n",
       "    </tr>\n",
       "    <tr>\n",
       "      <th>180458</th>\n",
       "      <td>n-change.net.</td>\n",
       "      <td>0</td>\n",
       "      <td>n-change.net.</td>\n",
       "    </tr>\n",
       "    <tr>\n",
       "      <th>181355</th>\n",
       "      <td>summa.cash.</td>\n",
       "      <td>0</td>\n",
       "      <td>summa.cash.</td>\n",
       "    </tr>\n",
       "    <tr>\n",
       "      <th>226306</th>\n",
       "      <td>ssl-allegro.comuf.com./allegro.html</td>\n",
       "      <td>0</td>\n",
       "      <td>ssl-allegro.comuf.com.</td>\n",
       "    </tr>\n",
       "    <tr>\n",
       "      <th>230077</th>\n",
       "      <td>update.visaeurope.com.card.verified.us.delphia...</td>\n",
       "      <td>0</td>\n",
       "      <td>update.visaeurope.com.card.verified.us.delphia...</td>\n",
       "    </tr>\n",
       "    <tr>\n",
       "      <th>273138</th>\n",
       "      <td>bkent.net./Doc/simple5.htm</td>\n",
       "      <td>1</td>\n",
       "      <td>bkent.net.</td>\n",
       "    </tr>\n",
       "    <tr>\n",
       "      <th>678856</th>\n",
       "      <td>syydettyjendatumm.brockalumni.com.</td>\n",
       "      <td>0</td>\n",
       "      <td>syydettyjendatumm.brockalumni.com.</td>\n",
       "    </tr>\n",
       "    <tr>\n",
       "      <th>678857</th>\n",
       "      <td>komunistycznymi.afshinnejad.com.</td>\n",
       "      <td>0</td>\n",
       "      <td>komunistycznymi.afshinnejad.com.</td>\n",
       "    </tr>\n",
       "    <tr>\n",
       "      <th>678858</th>\n",
       "      <td>nubeculaminor-blossgestellter.f-oaks.com.</td>\n",
       "      <td>0</td>\n",
       "      <td>nubeculaminor-blossgestellter.f-oaks.com.</td>\n",
       "    </tr>\n",
       "    <tr>\n",
       "      <th>678859</th>\n",
       "      <td>asseveravronnakiewietsblom.shopdentalsupply.com.</td>\n",
       "      <td>0</td>\n",
       "      <td>asseveravronnakiewietsblom.shopdentalsupply.com.</td>\n",
       "    </tr>\n",
       "    <tr>\n",
       "      <th>678860</th>\n",
       "      <td>pseudoalcaligenes.nhconstruction.com.</td>\n",
       "      <td>0</td>\n",
       "      <td>pseudoalcaligenes.nhconstruction.com.</td>\n",
       "    </tr>\n",
       "    <tr>\n",
       "      <th>678861</th>\n",
       "      <td>perverselymotorbikes.shopmedicalgloves.com.</td>\n",
       "      <td>0</td>\n",
       "      <td>perverselymotorbikes.shopmedicalgloves.com.</td>\n",
       "    </tr>\n",
       "    <tr>\n",
       "      <th>683996</th>\n",
       "      <td>gianlucaboezio.it./nJHbj0266b</td>\n",
       "      <td>0</td>\n",
       "      <td>gianlucaboezio.it.</td>\n",
       "    </tr>\n",
       "    <tr>\n",
       "      <th>684037</th>\n",
       "      <td>gianlucaboezio.it./nJHbj0266b?bVNhynB=AiGSHMqkUH</td>\n",
       "      <td>0</td>\n",
       "      <td>gianlucaboezio.it.</td>\n",
       "    </tr>\n",
       "    <tr>\n",
       "      <th>697045</th>\n",
       "      <td>250sb.com./jynvmx</td>\n",
       "      <td>0</td>\n",
       "      <td>250sb.com.</td>\n",
       "    </tr>\n",
       "    <tr>\n",
       "      <th>756847</th>\n",
       "      <td>asan-unes.firebaseapp.com.</td>\n",
       "      <td>0</td>\n",
       "      <td>asan-unes.firebaseapp.com.</td>\n",
       "    </tr>\n",
       "    <tr>\n",
       "      <th>777803</th>\n",
       "      <td>hantansouloire.com.</td>\n",
       "      <td>0</td>\n",
       "      <td>hantansouloire.com.</td>\n",
       "    </tr>\n",
       "    <tr>\n",
       "      <th>793904</th>\n",
       "      <td>network.</td>\n",
       "      <td>0</td>\n",
       "      <td>network.</td>\n",
       "    </tr>\n",
       "  </tbody>\n",
       "</table>\n",
       "</div>"
      ],
      "text/plain": [
       "                                                      url  status  \\\n",
       "12297                               ijhriogjef2831g.club.       0   \n",
       "180458                                      n-change.net.       0   \n",
       "181355                                        summa.cash.       0   \n",
       "226306                ssl-allegro.comuf.com./allegro.html       0   \n",
       "230077  update.visaeurope.com.card.verified.us.delphia...       0   \n",
       "273138                         bkent.net./Doc/simple5.htm       1   \n",
       "678856                 syydettyjendatumm.brockalumni.com.       0   \n",
       "678857                   komunistycznymi.afshinnejad.com.       0   \n",
       "678858          nubeculaminor-blossgestellter.f-oaks.com.       0   \n",
       "678859   asseveravronnakiewietsblom.shopdentalsupply.com.       0   \n",
       "678860              pseudoalcaligenes.nhconstruction.com.       0   \n",
       "678861        perverselymotorbikes.shopmedicalgloves.com.       0   \n",
       "683996                      gianlucaboezio.it./nJHbj0266b       0   \n",
       "684037   gianlucaboezio.it./nJHbj0266b?bVNhynB=AiGSHMqkUH       0   \n",
       "697045                                  250sb.com./jynvmx       0   \n",
       "756847                         asan-unes.firebaseapp.com.       0   \n",
       "777803                                hantansouloire.com.       0   \n",
       "793904                                           network.       0   \n",
       "\n",
       "                                                 ext_host  \n",
       "12297                               ijhriogjef2831g.club.  \n",
       "180458                                      n-change.net.  \n",
       "181355                                        summa.cash.  \n",
       "226306                             ssl-allegro.comuf.com.  \n",
       "230077  update.visaeurope.com.card.verified.us.delphia...  \n",
       "273138                                         bkent.net.  \n",
       "678856                 syydettyjendatumm.brockalumni.com.  \n",
       "678857                   komunistycznymi.afshinnejad.com.  \n",
       "678858          nubeculaminor-blossgestellter.f-oaks.com.  \n",
       "678859   asseveravronnakiewietsblom.shopdentalsupply.com.  \n",
       "678860              pseudoalcaligenes.nhconstruction.com.  \n",
       "678861        perverselymotorbikes.shopmedicalgloves.com.  \n",
       "683996                                 gianlucaboezio.it.  \n",
       "684037                                 gianlucaboezio.it.  \n",
       "697045                                         250sb.com.  \n",
       "756847                         asan-unes.firebaseapp.com.  \n",
       "777803                                hantansouloire.com.  \n",
       "793904                                           network.  "
      ]
     },
     "execution_count": 20,
     "metadata": {},
     "output_type": "execute_result"
    }
   ],
   "source": [
    "df[df['ext_host'].apply(host_end)]"
   ]
  },
  {
   "cell_type": "code",
   "execution_count": 21,
   "id": "70b644f3-0d0b-48e1-8b76-ff26a1b2e7cc",
   "metadata": {},
   "outputs": [],
   "source": [
    "def remove_trailing_dots(url):\n",
    "    '''A function to remove any trailing dots in the extracted domain'''\n",
    "    return url.rstrip('.')\n",
    "df['ext_host'] = df['ext_host'].apply(remove_trailing_dots)"
   ]
  },
  {
   "cell_type": "code",
   "execution_count": 22,
   "id": "f98dd86c-534b-46c3-945e-4bbaf3725e0c",
   "metadata": {},
   "outputs": [
    {
     "data": {
      "text/html": [
       "<div>\n",
       "<style scoped>\n",
       "    .dataframe tbody tr th:only-of-type {\n",
       "        vertical-align: middle;\n",
       "    }\n",
       "\n",
       "    .dataframe tbody tr th {\n",
       "        vertical-align: top;\n",
       "    }\n",
       "\n",
       "    .dataframe thead th {\n",
       "        text-align: right;\n",
       "    }\n",
       "</style>\n",
       "<table border=\"1\" class=\"dataframe\">\n",
       "  <thead>\n",
       "    <tr style=\"text-align: right;\">\n",
       "      <th></th>\n",
       "      <th>url</th>\n",
       "      <th>status</th>\n",
       "      <th>ext_host</th>\n",
       "    </tr>\n",
       "  </thead>\n",
       "  <tbody>\n",
       "  </tbody>\n",
       "</table>\n",
       "</div>"
      ],
      "text/plain": [
       "Empty DataFrame\n",
       "Columns: [url, status, ext_host]\n",
       "Index: []"
      ]
     },
     "execution_count": 22,
     "metadata": {},
     "output_type": "execute_result"
    }
   ],
   "source": [
    "df[df['ext_host'].apply(host_end)]"
   ]
  },
  {
   "cell_type": "code",
   "execution_count": 23,
   "id": "5b4e2076-bb7a-4bf0-a13a-22dab104a25b",
   "metadata": {},
   "outputs": [
    {
     "data": {
      "text/plain": [
       "0"
      ]
     },
     "execution_count": 23,
     "metadata": {},
     "output_type": "execute_result"
    }
   ],
   "source": [
    "df.ext_host.isnull().sum()"
   ]
  },
  {
   "cell_type": "markdown",
   "id": "3dfcf613-5fac-4493-bde6-2ce07dff4ded",
   "metadata": {},
   "source": [
    "# 2.6 Feature Creation"
   ]
  },
  {
   "cell_type": "markdown",
   "id": "9571c65a-338c-4dcf-9250-a6d4e4d4ba6a",
   "metadata": {},
   "source": [
    "### 2.6.1 URL and ext_host length"
   ]
  },
  {
   "cell_type": "code",
   "execution_count": 26,
   "id": "20cb7e8d-3c12-4405-b83a-c2d9c852259c",
   "metadata": {},
   "outputs": [],
   "source": [
    "# A function to check\n",
    "def check_bool(url, tf, num):\n",
    "    return df[(df[url] == tf) & (df['status'] == num)]"
   ]
  },
  {
   "cell_type": "code",
   "execution_count": 27,
   "id": "0daa8ea9-46ef-4560-9ff3-dc9642a3ee59",
   "metadata": {},
   "outputs": [],
   "source": [
    "# A function to check\n",
    "def check_num(url, no, num):\n",
    "    return df[(df[url] == no) & (df['status'] == num)]"
   ]
  },
  {
   "cell_type": "code",
   "execution_count": 28,
   "id": "c32872cb-7177-4ccf-8a57-9e33d767ef76",
   "metadata": {},
   "outputs": [],
   "source": [
    "df['len_url'] = df['url'].apply(len)"
   ]
  },
  {
   "cell_type": "code",
   "execution_count": 29,
   "id": "ec3ad619-0586-40b3-a30c-07f2dfab9b49",
   "metadata": {},
   "outputs": [],
   "source": [
    "df['len_host'] = df['ext_host'].apply(len)"
   ]
  },
  {
   "cell_type": "markdown",
   "id": "ea8f7649-cb63-40d8-ba24-fc804b431c9e",
   "metadata": {},
   "source": [
    "### 2.6.2 URL containing IP address"
   ]
  },
  {
   "cell_type": "code",
   "execution_count": 31,
   "id": "b3c3da9a-a70d-4fc4-a425-88d8f523f325",
   "metadata": {},
   "outputs": [],
   "source": [
    "# Function to check for IP addresses\n",
    "def contains_ip(url):\n",
    "    # Regex to match an IPv4 address\n",
    "    ipv4_pattern = r'(\\b\\d{1,3}\\.\\d{1,3}\\.\\d{1,3}\\.\\d{1,3}\\b)'\n",
    "    # Regex to match an IPv6 address (optional)\n",
    "    ipv6_pattern = r'(\\[[0-9a-fA-F:]+\\])'\n",
    "    # Combine both (optional if you want to match both IPv4 and IPv6)\n",
    "    combined_pattern = rf'{ipv4_pattern}|{ipv6_pattern}'\n",
    "    return bool(re.search(combined_pattern, url))\n",
    "\n",
    "# Apply the function to the DataFrame\n",
    "df['contains_ip'] = df['url'].apply(contains_ip)"
   ]
  },
  {
   "cell_type": "code",
   "execution_count": 32,
   "id": "d87b4c9f-7590-4bf5-b010-51b5d4335a3e",
   "metadata": {},
   "outputs": [],
   "source": [
    "df['contains_ip'] = df['contains_ip'].astype(int)"
   ]
  },
  {
   "cell_type": "markdown",
   "id": "f3771883-24eb-41b2-bfb7-a82017c1fe68",
   "metadata": {},
   "source": [
    "### 2.6.3 Containing java script queries"
   ]
  },
  {
   "cell_type": "markdown",
   "id": "e5d5f100-3da3-4752-b8a0-7222b355c37f",
   "metadata": {},
   "source": [
    "JavaScript-related query parameters in URLs often serve specific functions. Parameters like callback, load, or js are often used for loading dynamic JavaScript resources or APIs. Query strings like query might collect search keywords or other data. Parameters may point to .js files directly. While these actions are done for legitimate purpose but they can also be mimicked to legitimate services to trick users. Manipulated to inject malicious scripts or redirect to unauthorized resources.\n",
    "\n",
    "Phishing URLs often include overly complex or meaningless query strings. While legitimate URLs tend to use structured, predictable, and meaningful queries.\n",
    "\n",
    "High entropy in query parameters might indicate randomization or obfuscation, common in phishing URLs to bypass detection systems.\n",
    "\n",
    "Shannon entropy is a measure of uncertainty or variability in a system, based on the probabilities of different situations. It was developed by Claude Shannon in 1948 to measure the richness and evenness of plant and animal species."
   ]
  },
  {
   "cell_type": "code",
   "execution_count": 34,
   "id": "85e939a7-c767-44d5-8eaf-00c0f62f4382",
   "metadata": {},
   "outputs": [],
   "source": [
    "query_pattern = r'\\?([^=]+)=([^&]+)'  # Detects query parameters\n",
    "fragment_pattern = r'#([^/]+)'  # Detects fragment identifiers\n",
    "js_param_pattern = r'[?&](js|callback|load|query)=[^&]+'  # Detects JavaScript-like parameters\n",
    "js_file_pattern = r'\\.js$'  # Detects .js in the URL path\n",
    "\n",
    "# Combine all patterns with | (alternation)\n",
    "combined_pattern = f'{query_pattern}|{fragment_pattern}|{js_param_pattern}|{js_file_pattern}'\n",
    "\n",
    "# Function to check for JavaScript-related patterns in the URL\n",
    "def check_js(url):\n",
    "    return bool(re.search(combined_pattern, url))\n",
    "\n",
    "# Apply the function to the DataFrame\n",
    "df['has_js'] = df['url'].apply(check_js)"
   ]
  },
  {
   "cell_type": "code",
   "execution_count": 35,
   "id": "879e7d57-7fcf-4ef9-acf0-ea9aaf4a07b2",
   "metadata": {},
   "outputs": [],
   "source": [
    "df['has_js'] = df['has_js'].astype(int)"
   ]
  },
  {
   "cell_type": "code",
   "execution_count": 36,
   "id": "222a08a5-5985-4f71-bd03-37b454620182",
   "metadata": {},
   "outputs": [],
   "source": [
    "# Calculating the entropy of the all the patterns found in a url"
   ]
  },
  {
   "cell_type": "code",
   "execution_count": 37,
   "id": "31dfcc00-aaa7-4d6b-b00a-52fbaba54cd5",
   "metadata": {},
   "outputs": [],
   "source": [
    "query_pattern = r'\\?([^=]+)=([^&]+)'  # Detects query parameters\n",
    "fragment_pattern = r'#([^/]+)'  # Detects fragment identifiers\n",
    "js_param_pattern = r'[?&](js|callback|load|query)=[^&]+'  # Detects JavaScript-like parameters\n",
    "js_file_pattern = r'\\.js$'  # Detects .js in the URL path\n",
    "\n",
    "# Combine all patterns with | (alternation)\n",
    "combined_pattern = f'{query_pattern}|{fragment_pattern}|{js_param_pattern}|{js_file_pattern}'\n",
    "\n",
    "# Function to extract all matches\n",
    "def extract_matches(url):\n",
    "    matches = re.findall(combined_pattern, url)\n",
    "    return matches if matches else []\n",
    "\n",
    "# Function to calculate entropy\n",
    "def calculate_entropy(matches):\n",
    "    if not matches:\n",
    "        return 0  # No matches, no entropy\n",
    "    combined = ''.join(''.join(match) for match in matches)  # Flatten the list of tuples into a string\n",
    "    freq = {char: combined.count(char) for char in set(combined)}  # Count character frequency\n",
    "    total = len(combined)  # Total characters\n",
    "    entropy = -sum((count / total) * log2(count / total) for count in freq.values())  # Shannon entropy\n",
    "    return entropy\n",
    "\n",
    "# Apply the functions to the DataFrame\n",
    "df['query_js'] = df['url'].apply(extract_matches)  # Store matched patterns as a list\n",
    "df['js_entropy'] = df['query_js'].apply(calculate_entropy)  # Calculate entropy of the matches"
   ]
  },
  {
   "cell_type": "code",
   "execution_count": null,
   "id": "42b128b3-4f53-4a6b-82f6-45f0ae11de38",
   "metadata": {},
   "outputs": [],
   "source": []
  },
  {
   "cell_type": "markdown",
   "id": "bf145e21-2abe-4969-9b38-b61d302687f5",
   "metadata": {},
   "source": [
    "Most probably not much significant feature"
   ]
  },
  {
   "cell_type": "markdown",
   "id": "a8c03c22-4702-4096-b2b6-eff137feed1f",
   "metadata": {},
   "source": [
    "### 2.6.4 Finding number-dot pattern"
   ]
  },
  {
   "cell_type": "code",
   "execution_count": 40,
   "id": "00571434-8cec-4aab-9267-c42657de2d05",
   "metadata": {},
   "outputs": [],
   "source": [
    "def find_long_number_dot_patterns(url):\n",
    "    # Regex to match number-and-dot patterns\n",
    "    pattern = r'(\\d+(\\.\\d+)+)'\n",
    "    matches = re.findall(pattern, url)\n",
    "    # Extract only the patterns and filter based on length\n",
    "    filtered_matches = [(match[0], len(match[0])) for match in matches if len(match[0]) > 4]\n",
    "    return filtered_matches\n",
    "\n",
    "# Apply the function to the 'url' column to extract patterns\n",
    "df['num_dotnum_pat_4'] = df['url'].apply(find_long_number_dot_patterns)\n",
    "\n",
    "# Create a column that stores the number of such patterns found in each URL\n",
    "df['num_pat_4'] = df['num_dotnum_pat_4'].apply(lambda x: len(x))"
   ]
  },
  {
   "cell_type": "markdown",
   "id": "db6bd04b-7e50-4bb5-86aa-472c5328832e",
   "metadata": {},
   "source": [
    "### 2.6.5 Capital letters in host"
   ]
  },
  {
   "cell_type": "code",
   "execution_count": 42,
   "id": "af8b2bc1-fe51-4d49-9938-05301d571e4f",
   "metadata": {},
   "outputs": [],
   "source": [
    "def count_capital_letters(url):\n",
    "    # Find all capital letters using a regex\n",
    "    return len(re.findall(r'[A-Z]', url))\n",
    "df['host_len_capital'] = df['ext_host'].apply(count_capital_letters)"
   ]
  },
  {
   "cell_type": "code",
   "execution_count": 43,
   "id": "40137bdd-36fa-40bb-b23b-6ce9539c8707",
   "metadata": {},
   "outputs": [],
   "source": [
    "def ratio_capital(len_capital, ext_host):\n",
    "    if len_capital == 0:\n",
    "        return 0\n",
    "    else:\n",
    "        return len_capital / len(ext_host)\n",
    "df['host_ratio_capital'] = df.apply(lambda x: ratio_capital(x['host_len_capital'], x['ext_host']), axis=1)"
   ]
  },
  {
   "cell_type": "markdown",
   "id": "0f30d07e-dd74-4fcb-b85c-0ce418b74ce8",
   "metadata": {},
   "source": [
    "### 2.6.6 Capital letters in url"
   ]
  },
  {
   "cell_type": "code",
   "execution_count": 45,
   "id": "d7755849-e968-4290-b82e-c653c901cb7c",
   "metadata": {},
   "outputs": [],
   "source": [
    "def count_capital_letters(url):\n",
    "    # Find all capital letters using a regex\n",
    "    return len(re.findall(r'[A-Z]', url))\n",
    "df['url_len_capital'] = df['url'].apply(count_capital_letters)"
   ]
  },
  {
   "cell_type": "code",
   "execution_count": 46,
   "id": "2416f1ab-657e-40b3-9175-41551999cfac",
   "metadata": {},
   "outputs": [],
   "source": [
    "def ratio_capital(len_capital, ext_host):\n",
    "    if len_capital == 0:\n",
    "        return 0\n",
    "    else:\n",
    "        return len_capital / len(ext_host)\n",
    "df['url_ratio_capital'] = df.apply(lambda x: ratio_capital(x['url_len_capital'], x['url']), axis=1)"
   ]
  },
  {
   "cell_type": "markdown",
   "id": "526d0373-5526-4a6d-b6fb-e9204663ad84",
   "metadata": {},
   "source": [
    "### 2.6.7 Calculating Shannon entropy"
   ]
  },
  {
   "cell_type": "markdown",
   "id": "03a2df1e-7577-4734-876a-8052cf0d99d2",
   "metadata": {},
   "source": [
    "#### 2.6.7.1 Calculating Shannon entropy for url"
   ]
  },
  {
   "cell_type": "code",
   "execution_count": 49,
   "id": "d5643e96-cfa3-4041-b9ef-eb628880d999",
   "metadata": {},
   "outputs": [],
   "source": [
    "# Define the entropy calculation function\n",
    "def calculate_entropy(url):\n",
    "    # Calculate the frequency of each character\n",
    "    probabilities = [float(url.count(char)) / len(url) for char in set(url)]\n",
    "    # Compute Shannon entropy\n",
    "    entropy = -sum([p * np.log2(p) for p in probabilities])\n",
    "    return entropy\n",
    "\n",
    "# Apply the entropy function to the 'url' column\n",
    "df['url_entropy'] = df['url'].apply(calculate_entropy)"
   ]
  },
  {
   "cell_type": "markdown",
   "id": "86680bc9-d70a-458a-9d11-1bb0b3f07baa",
   "metadata": {},
   "source": [
    "#### 2.6.7.2 Calculating Shannon entropy for ext_host"
   ]
  },
  {
   "cell_type": "code",
   "execution_count": 51,
   "id": "eca6e032-7259-4292-98be-2e5ba85825d8",
   "metadata": {},
   "outputs": [],
   "source": [
    "# Define the entropy calculation function\n",
    "def calculate_entropy(url):\n",
    "    # Calculate the frequency of each character\n",
    "    probabilities = [float(url.count(char)) / len(url) for char in set(url)]\n",
    "    # Compute Shannon entropy\n",
    "    entropy = -sum([p * np.log2(p) for p in probabilities])\n",
    "    return entropy\n",
    "\n",
    "# Apply the entropy function to the 'url' column\n",
    "df['host_entropy'] = df['ext_host'].apply(calculate_entropy)"
   ]
  },
  {
   "cell_type": "markdown",
   "id": "33a70837-91d7-42a6-b721-948528622912",
   "metadata": {},
   "source": [
    "# 2.6.8 Calculating alphabet based ratios"
   ]
  },
  {
   "cell_type": "markdown",
   "id": "84fca26f-e1ea-4dae-a56d-0a8a0994f48c",
   "metadata": {},
   "source": [
    "### 2.6.8.1 Calculating character to number ratio in url"
   ]
  },
  {
   "cell_type": "code",
   "execution_count": 54,
   "id": "c19cc2f6-a605-4fec-8b4d-fcd3bbf84d18",
   "metadata": {},
   "outputs": [],
   "source": [
    "# Function to calculate character-to-number ratio\n",
    "def calculate_char_number_ratio(url):\n",
    "    chars = sum(x.isalpha() for x in url)\n",
    "    digits = sum(x.isdigit() for x in url)\n",
    "    # Avoid division by zero, return a ratio of 0 if no digits found\n",
    "    return chars / digits if digits != 0 else 0\n",
    "\n",
    "# Apply the function to the 'url' column and create a new column 'char_number_ratio'\n",
    "df['url_char_num_ratio'] = df['url'].apply(calculate_char_number_ratio)"
   ]
  },
  {
   "cell_type": "markdown",
   "id": "9657f9bb-d084-4d5c-b37d-0a0f91afc4e4",
   "metadata": {},
   "source": [
    "### 2.6.8.2 Calculating character to special characters ratio in url"
   ]
  },
  {
   "cell_type": "code",
   "execution_count": 56,
   "id": "d7019681-26e6-4d75-970f-13cb66ae8e50",
   "metadata": {},
   "outputs": [],
   "source": [
    "# Function to calculate character-to-number ratio\n",
    "def calculate_spe_char_ratio(url):\n",
    "    chars = sum(x.isalpha() for x in url)\n",
    "    digits = sum(x.isdigit() for x in url)\n",
    "    char_digit = chars + digits\n",
    "    special_excluding_digits = len(url) - char_digit\n",
    "    # Avoid division by zero, return a ratio of 0 if no digits found\n",
    "    return char_digit / special_excluding_digits if special_excluding_digits != 0 else 0\n",
    "\n",
    "# Apply the function to the 'url' column and create a new column 'char_number_ratio'\n",
    "df['url_spe_char_ratio'] = df['url'].apply(calculate_spe_char_ratio)"
   ]
  },
  {
   "cell_type": "markdown",
   "id": "096c5f88-fc5c-48a6-9409-5ec1eee78e4e",
   "metadata": {},
   "source": [
    "### 2.6.8.3 Calculating character to number ratio in host"
   ]
  },
  {
   "cell_type": "code",
   "execution_count": 58,
   "id": "5f67d067-f9f8-4948-a18f-b5c15ec9d656",
   "metadata": {},
   "outputs": [],
   "source": [
    "df['host_char_num_ratio'] = df['ext_host'].apply(calculate_char_number_ratio)"
   ]
  },
  {
   "cell_type": "markdown",
   "id": "408245da-873d-4c9a-a764-4c481f55d4aa",
   "metadata": {},
   "source": [
    "### 2.6.8.4 Calculating character to special characters ratio in host"
   ]
  },
  {
   "cell_type": "code",
   "execution_count": 60,
   "id": "9bd8f3fa-c704-41e6-9de2-6111945358f3",
   "metadata": {},
   "outputs": [],
   "source": [
    "df['host_spe_char_ratio'] = df['ext_host'].apply(calculate_spe_char_ratio)"
   ]
  },
  {
   "cell_type": "markdown",
   "id": "9a3733af-bb7e-4ad0-902f-e661a27c0712",
   "metadata": {},
   "source": [
    "# 2.6.9 Detecting obfuscation"
   ]
  },
  {
   "cell_type": "markdown",
   "id": "c7a56b5d-496c-45f3-bcbf-402cbfcc571c",
   "metadata": {},
   "source": [
    "### 2.6.9.1 Detecting obfuscation in url"
   ]
  },
  {
   "cell_type": "code",
   "execution_count": 63,
   "id": "bdaeb95e-077c-44c9-bed3-9dc09779125f",
   "metadata": {},
   "outputs": [],
   "source": [
    "# Function to detect obfuscation\n",
    "def detect_obfuscation(url):\n",
    "    obfuscation_patterns = [\n",
    "        r'%[0-9a-fA-F]{2}',  # URL encoding\n",
    "        r'[a-fA-F0-9]{4,}',  # Hexadecimal\n",
    "    ]\n",
    "    # Check if any of the obfuscation patterns match\n",
    "    obfuscation_detected = any(re.search(pattern, url) for pattern in obfuscation_patterns)\n",
    "    return 0 if obfuscation_detected else 1  # 0 for obfuscated, 1 for not obfuscated\n",
    "\n",
    "df['url_obfuscation_status'] = df['url'].apply(detect_obfuscation)"
   ]
  },
  {
   "cell_type": "markdown",
   "id": "93291dbc-d47c-46a7-9049-b6864afff7c0",
   "metadata": {},
   "source": [
    "Code Explanation\n",
    "1. Regular Expression Patterns\n",
    "The obfuscation_patterns contains two regex patterns:\n",
    "\n",
    "r'%[0-9a-fA-F]{2}':\n",
    "\n",
    "What it matches: This pattern looks for URL encoding.\n",
    "Breakdown:\n",
    "% matches the literal percent symbol, which is used in URL encoding.\n",
    "[0-9a-fA-F] matches any hexadecimal digit (0-9, a-f, or A-F).\n",
    "{2} specifies that exactly 2 hexadecimal characters should follow %.\n",
    "Example matches:\n",
    "https://example.com/page%20name (contains %20, which is URL encoding for a space).\n",
    "https://example.com/file%3Fquery (contains %3F, which is URL encoding for ?).\n",
    "r'[a-fA-F0-9]{4,}':\n",
    "\n",
    "What it matches: This pattern identifies long sequences of hexadecimal characters (4 or more).\n",
    "Breakdown:\n",
    "[a-fA-F0-9] matches any hexadecimal digit (0-9, a-f, or A-F).\n",
    "{4,} means the preceding pattern must appear at least 4 times, with no upper limit.\n",
    "Example matches:\n",
    "https://example.com/page/deadbeef (contains deadbeef, a hexadecimal string).\n",
    "https://example.com/file/123abc (contains 123abc, another hexadecimal string)."
   ]
  },
  {
   "cell_type": "markdown",
   "id": "12e194a7-4b86-4d9c-aeda-a258b67c4af7",
   "metadata": {},
   "source": [
    "### 2.6.9.2 Detecting obfuscation in host"
   ]
  },
  {
   "cell_type": "code",
   "execution_count": 66,
   "id": "c757ff1f-292a-44ac-98a7-1c43e565a9c6",
   "metadata": {},
   "outputs": [],
   "source": [
    "df['host_obfuscation_status'] = df['ext_host'].apply(detect_obfuscation)"
   ]
  },
  {
   "cell_type": "markdown",
   "id": "3aa6c799-0cdc-4647-b0d7-d23d54820feb",
   "metadata": {},
   "source": [
    "# 2.6.10 Calculating entropy of random substring"
   ]
  },
  {
   "cell_type": "markdown",
   "id": "f3f0724f-bb4d-4467-aa89-0cd42285d5d6",
   "metadata": {},
   "source": [
    "### 2.6.10.1 Calculating entropy of random substring in url"
   ]
  },
  {
   "cell_type": "code",
   "execution_count": 69,
   "id": "2d1aa3a6-bd0b-4191-9e2d-907001bf25f0",
   "metadata": {},
   "outputs": [],
   "source": [
    "# Function to find random alphanumeric substrings in URL\n",
    "def find_random_substrings(url):\n",
    "    # Regex for long random alphanumeric substrings (threshold of 5 or more characters)\n",
    "    random_pattern = re.compile(r'[a-zA-Z0-9]{5,}')  # You can adjust the threshold if needed\n",
    "    matches = random_pattern.findall(url)\n",
    "    return matches\n",
    "\n",
    "# Applying the function to the 'url' column and create a new column 'random_substrings'\n",
    "df['url_random_substrings'] = df['url'].apply(find_random_substrings)"
   ]
  },
  {
   "cell_type": "code",
   "execution_count": 70,
   "id": "2c747ffe-0d20-4daf-ae62-1261e02e199c",
   "metadata": {},
   "outputs": [],
   "source": [
    "def cal_substring_entropy(substrings):\n",
    "    if not substrings:\n",
    "        return 0\n",
    "    total_entropy = sum(calculate_entropy(sub) for sub in substrings)\n",
    "    return total_entropy"
   ]
  },
  {
   "cell_type": "code",
   "execution_count": 71,
   "id": "4739c851-3f6b-4062-9af7-1a2fa13564fa",
   "metadata": {},
   "outputs": [],
   "source": [
    "df['url_sub_entropy'] = df['url_random_substrings'].apply(cal_substring_entropy)"
   ]
  },
  {
   "cell_type": "markdown",
   "id": "712545da-3591-4af0-8dab-be25101a1c9f",
   "metadata": {},
   "source": [
    "### 2.6.10.2 Calculating entropy of random substring in host"
   ]
  },
  {
   "cell_type": "code",
   "execution_count": 73,
   "id": "3169018c-76ac-440f-9c8b-bbb1cad73661",
   "metadata": {},
   "outputs": [],
   "source": [
    "# Applying the function to the 'url' column and create a new column 'random_substrings'\n",
    "df['host_random_substrings'] = df['ext_host'].apply(find_random_substrings)"
   ]
  },
  {
   "cell_type": "code",
   "execution_count": 74,
   "id": "88721ecf-19c2-4ad4-90aa-da552d493d9d",
   "metadata": {},
   "outputs": [],
   "source": [
    "df['host_sub_entropy'] = df['host_random_substrings'].apply(cal_substring_entropy)"
   ]
  },
  {
   "cell_type": "markdown",
   "id": "e6715229-b29d-4cc5-9a8c-1f7197827be8",
   "metadata": {},
   "source": [
    "# 2.6.11 The number of individual special chracters"
   ]
  },
  {
   "cell_type": "markdown",
   "id": "41485fc9-da24-435b-b767-46e63bca1649",
   "metadata": {},
   "source": [
    "### 2.6.11.1 Number of hypens"
   ]
  },
  {
   "cell_type": "code",
   "execution_count": 78,
   "id": "61ade460-23ce-45fc-b88c-b1c1e04c0a0e",
   "metadata": {},
   "outputs": [],
   "source": [
    "def count_hypens(url):\n",
    "    return url.count('-')\n",
    "df['n_hypens'] = df['url'].apply(count_hypens)"
   ]
  },
  {
   "cell_type": "markdown",
   "id": "d68de06b-d184-461e-9dee-83ee4d9ef818",
   "metadata": {},
   "source": [
    "### 2.6.11.2 Number of underscores"
   ]
  },
  {
   "cell_type": "code",
   "execution_count": 80,
   "id": "25f030af-f724-43ba-8cad-7dd0d5e29be6",
   "metadata": {},
   "outputs": [],
   "source": [
    "def count_uscore(url):\n",
    "    return url.count('_')\n",
    "df['n_uscores'] = df['url'].apply(count_uscore)"
   ]
  },
  {
   "cell_type": "markdown",
   "id": "12e0c026-0ecc-429b-8cad-8c9bad1333cf",
   "metadata": {},
   "source": [
    "### 2.6.11.3 Number of semicolons"
   ]
  },
  {
   "cell_type": "code",
   "execution_count": 82,
   "id": "7ad0faec-9ecc-4c40-897c-43a25f4d13a1",
   "metadata": {},
   "outputs": [],
   "source": [
    "def count_semicolon(url):\n",
    "    return url.count(';')\n",
    "df['n_semicolon'] = df['url'].apply(count_semicolon)"
   ]
  },
  {
   "cell_type": "markdown",
   "id": "54b2a4f3-3767-4e72-aa5d-5d871112dc00",
   "metadata": {},
   "source": [
    "### 2.6.11.4 Number of equal signs"
   ]
  },
  {
   "cell_type": "code",
   "execution_count": 84,
   "id": "5931589f-3a7e-4a5a-9256-48769c892a24",
   "metadata": {},
   "outputs": [],
   "source": [
    "def count_equsign(url):\n",
    "    return url.count('=')\n",
    "df['n_equal_sign'] = df['url'].apply(count_equsign)"
   ]
  },
  {
   "cell_type": "markdown",
   "id": "fed717ad-ed79-4bd5-8f1b-26605f771a9e",
   "metadata": {},
   "source": [
    "# 2.6.12 Applying Similarity Index to top level domain "
   ]
  },
  {
   "cell_type": "markdown",
   "id": "1e3b21a8-921c-4481-ab7d-e86ac10e62ec",
   "metadata": {},
   "source": [
    "### 2.6.12.1 Extracting the top level domain"
   ]
  },
  {
   "cell_type": "code",
   "execution_count": 166,
   "id": "93b36417-d700-4906-bf3d-a557e26c7183",
   "metadata": {},
   "outputs": [],
   "source": [
    "# Extracting the top level domain\n",
    "def tld_url(url):\n",
    "    parts = url.split('.')\n",
    "    return parts[-1] if len(parts) > 0 else None\n",
    "df['tlds'] = df['ext_host'].apply(tld_url)"
   ]
  },
  {
   "cell_type": "code",
   "execution_count": null,
   "id": "d5be6088-a46d-4bd0-9183-c44ae1fa5b12",
   "metadata": {},
   "outputs": [],
   "source": []
  }
 ],
 "metadata": {
  "kernelspec": {
   "display_name": "Python 3 (ipykernel)",
   "language": "python",
   "name": "python3"
  },
  "language_info": {
   "codemirror_mode": {
    "name": "ipython",
    "version": 3
   },
   "file_extension": ".py",
   "mimetype": "text/x-python",
   "name": "python",
   "nbconvert_exporter": "python",
   "pygments_lexer": "ipython3",
   "version": "3.11.9"
  }
 },
 "nbformat": 4,
 "nbformat_minor": 5
}
