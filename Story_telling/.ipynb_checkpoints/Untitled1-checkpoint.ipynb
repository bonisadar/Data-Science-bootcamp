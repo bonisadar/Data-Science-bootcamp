{
 "cells": [
  {
   "cell_type": "code",
   "execution_count": 1,
   "id": "4a6f69f6-8009-44b6-ae35-c75df6b24c17",
   "metadata": {},
   "outputs": [],
   "source": [
    "import pandas as pd\n",
    "import numpy as np\n",
    "import matplotlib.pyplot as plt\n",
    "import seaborn as sns"
   ]
  },
  {
   "cell_type": "code",
   "execution_count": 3,
   "id": "3cb34cfe-c616-47d8-9f92-6651086c472e",
   "metadata": {},
   "outputs": [
    {
     "data": {
      "text/html": [
       "<div>\n",
       "<style scoped>\n",
       "    .dataframe tbody tr th:only-of-type {\n",
       "        vertical-align: middle;\n",
       "    }\n",
       "\n",
       "    .dataframe tbody tr th {\n",
       "        vertical-align: top;\n",
       "    }\n",
       "\n",
       "    .dataframe thead th {\n",
       "        text-align: right;\n",
       "    }\n",
       "</style>\n",
       "<table border=\"1\" class=\"dataframe\">\n",
       "  <thead>\n",
       "    <tr style=\"text-align: right;\">\n",
       "      <th></th>\n",
       "      <th>Country</th>\n",
       "      <th>Year</th>\n",
       "      <th>Total_Energy_Consumption_EJ</th>\n",
       "      <th>Energy Consumption EJ</th>\n",
       "      <th>Fuel type</th>\n",
       "      <th>Region</th>\n",
       "      <th>Income group</th>\n",
       "    </tr>\n",
       "  </thead>\n",
       "  <tbody>\n",
       "    <tr>\n",
       "      <th>0</th>\n",
       "      <td>Canada</td>\n",
       "      <td>1965</td>\n",
       "      <td>5.00053</td>\n",
       "      <td>0.647949</td>\n",
       "      <td>Coal</td>\n",
       "      <td>North America</td>\n",
       "      <td>High income</td>\n",
       "    </tr>\n",
       "    <tr>\n",
       "      <th>1</th>\n",
       "      <td>Canada</td>\n",
       "      <td>1965</td>\n",
       "      <td>5.00053</td>\n",
       "      <td>0.000000</td>\n",
       "      <td>Geo Biomass &amp; other</td>\n",
       "      <td>North America</td>\n",
       "      <td>High income</td>\n",
       "    </tr>\n",
       "    <tr>\n",
       "      <th>2</th>\n",
       "      <td>Canada</td>\n",
       "      <td>1965</td>\n",
       "      <td>5.00053</td>\n",
       "      <td>1.257066</td>\n",
       "      <td>Hydropower</td>\n",
       "      <td>North America</td>\n",
       "      <td>High income</td>\n",
       "    </tr>\n",
       "    <tr>\n",
       "      <th>3</th>\n",
       "      <td>Canada</td>\n",
       "      <td>1965</td>\n",
       "      <td>5.00053</td>\n",
       "      <td>0.001308</td>\n",
       "      <td>Nuclear Energy</td>\n",
       "      <td>North America</td>\n",
       "      <td>High income</td>\n",
       "    </tr>\n",
       "    <tr>\n",
       "      <th>4</th>\n",
       "      <td>Canada</td>\n",
       "      <td>1965</td>\n",
       "      <td>5.00053</td>\n",
       "      <td>2.314145</td>\n",
       "      <td>Oil</td>\n",
       "      <td>North America</td>\n",
       "      <td>High income</td>\n",
       "    </tr>\n",
       "  </tbody>\n",
       "</table>\n",
       "</div>"
      ],
      "text/plain": [
       "  Country  Year  Total_Energy_Consumption_EJ  Energy Consumption EJ  \\\n",
       "0  Canada  1965                      5.00053               0.647949   \n",
       "1  Canada  1965                      5.00053               0.000000   \n",
       "2  Canada  1965                      5.00053               1.257066   \n",
       "3  Canada  1965                      5.00053               0.001308   \n",
       "4  Canada  1965                      5.00053               2.314145   \n",
       "\n",
       "             Fuel type         Region Income group  \n",
       "0                 Coal  North America  High income  \n",
       "1  Geo Biomass & other  North America  High income  \n",
       "2           Hydropower  North America  High income  \n",
       "3       Nuclear Energy  North America  High income  \n",
       "4                  Oil  North America  High income  "
      ]
     },
     "execution_count": 3,
     "metadata": {},
     "output_type": "execute_result"
    }
   ],
   "source": [
    "df = pd.read_csv('Energy_data.csv', index_col=0)\n",
    "df.head()"
   ]
  },
  {
   "cell_type": "code",
   "execution_count": 31,
   "id": "3e881d4a-4d85-4110-a228-d68860d7c506",
   "metadata": {},
   "outputs": [
    {
     "data": {
      "text/plain": [
       "Country                        0\n",
       "Year                           0\n",
       "Total_Energy_Consumption_EJ    0\n",
       "Energy Consumption EJ          0\n",
       "Fuel type                      0\n",
       "Region                         0\n",
       "Income group                   0\n",
       "GDP (nominal, 2023)            0\n",
       "GDP (abbrev.)                  0\n",
       "GDP growth                     0\n",
       "Population -2023               0\n",
       "GDP per capita                 0\n",
       "Share of World GDP             0\n",
       "dtype: int64"
      ]
     },
     "execution_count": 31,
     "metadata": {},
     "output_type": "execute_result"
    }
   ],
   "source": [
    "df.isnull().sum()"
   ]
  },
  {
   "cell_type": "code",
   "execution_count": 33,
   "id": "cc1a91f8-52d9-4e86-918f-140179088dff",
   "metadata": {},
   "outputs": [
    {
     "data": {
      "text/plain": [
       "0"
      ]
     },
     "execution_count": 33,
     "metadata": {},
     "output_type": "execute_result"
    }
   ],
   "source": [
    "df.duplicated().sum()"
   ]
  },
  {
   "cell_type": "code",
   "execution_count": 13,
   "id": "466b428d-60c0-4946-ac9f-8692b246dfbe",
   "metadata": {},
   "outputs": [
    {
     "data": {
      "text/html": [
       "<div>\n",
       "<style scoped>\n",
       "    .dataframe tbody tr th:only-of-type {\n",
       "        vertical-align: middle;\n",
       "    }\n",
       "\n",
       "    .dataframe tbody tr th {\n",
       "        vertical-align: top;\n",
       "    }\n",
       "\n",
       "    .dataframe thead th {\n",
       "        text-align: right;\n",
       "    }\n",
       "</style>\n",
       "<table border=\"1\" class=\"dataframe\">\n",
       "  <thead>\n",
       "    <tr style=\"text-align: right;\">\n",
       "      <th></th>\n",
       "      <th>#</th>\n",
       "      <th>Country</th>\n",
       "      <th>GDP (nominal, 2023)</th>\n",
       "      <th>GDP (abbrev.)</th>\n",
       "      <th>GDP growth</th>\n",
       "      <th>Population -2023</th>\n",
       "      <th>GDP per capita</th>\n",
       "      <th>Share of World GDP</th>\n",
       "    </tr>\n",
       "  </thead>\n",
       "  <tbody>\n",
       "    <tr>\n",
       "      <th>0</th>\n",
       "      <td>1</td>\n",
       "      <td>United States</td>\n",
       "      <td>27720700000000</td>\n",
       "      <td>$27.721 trillion</td>\n",
       "      <td>0.0289</td>\n",
       "      <td>343477335</td>\n",
       "      <td>80706</td>\n",
       "      <td>0.2611</td>\n",
       "    </tr>\n",
       "    <tr>\n",
       "      <th>1</th>\n",
       "      <td>2</td>\n",
       "      <td>China</td>\n",
       "      <td>17794800000000</td>\n",
       "      <td>$17.795 trillion</td>\n",
       "      <td>0.0525</td>\n",
       "      <td>1422584933</td>\n",
       "      <td>12509</td>\n",
       "      <td>0.1676</td>\n",
       "    </tr>\n",
       "    <tr>\n",
       "      <th>2</th>\n",
       "      <td>3</td>\n",
       "      <td>Germany</td>\n",
       "      <td>4525700000000</td>\n",
       "      <td>$4.526 trillion</td>\n",
       "      <td>-0.0027</td>\n",
       "      <td>84548231</td>\n",
       "      <td>53528</td>\n",
       "      <td>0.0426</td>\n",
       "    </tr>\n",
       "    <tr>\n",
       "      <th>3</th>\n",
       "      <td>4</td>\n",
       "      <td>Japan</td>\n",
       "      <td>4204490000000</td>\n",
       "      <td>$4.204 trillion</td>\n",
       "      <td>0.0168</td>\n",
       "      <td>124370947</td>\n",
       "      <td>33806</td>\n",
       "      <td>0.0396</td>\n",
       "    </tr>\n",
       "    <tr>\n",
       "      <th>4</th>\n",
       "      <td>5</td>\n",
       "      <td>India</td>\n",
       "      <td>3567550000000</td>\n",
       "      <td>$3.568 trillion</td>\n",
       "      <td>0.0815</td>\n",
       "      <td>1438069596</td>\n",
       "      <td>2481</td>\n",
       "      <td>0.0336</td>\n",
       "    </tr>\n",
       "  </tbody>\n",
       "</table>\n",
       "</div>"
      ],
      "text/plain": [
       "   #        Country  GDP (nominal, 2023)     GDP (abbrev.)  GDP growth  \\\n",
       "0  1  United States       27720700000000  $27.721 trillion      0.0289   \n",
       "1  2          China       17794800000000  $17.795 trillion      0.0525   \n",
       "2  3        Germany        4525700000000   $4.526 trillion     -0.0027   \n",
       "3  4          Japan        4204490000000   $4.204 trillion      0.0168   \n",
       "4  5          India        3567550000000   $3.568 trillion      0.0815   \n",
       "\n",
       "   Population -2023  GDP per capita  Share of World GDP  \n",
       "0         343477335           80706              0.2611  \n",
       "1        1422584933           12509              0.1676  \n",
       "2          84548231           53528              0.0426  \n",
       "3         124370947           33806              0.0396  \n",
       "4        1438069596            2481              0.0336  "
      ]
     },
     "execution_count": 13,
     "metadata": {},
     "output_type": "execute_result"
    }
   ],
   "source": [
    "df_2 = pd.read_excel('Info.xlsx')\n",
    "df_2.head()"
   ]
  },
  {
   "cell_type": "code",
   "execution_count": 15,
   "id": "947f7fd7-f2c1-43f2-90a0-c2703be0c0c4",
   "metadata": {},
   "outputs": [
    {
     "data": {
      "text/plain": [
       "#                      0\n",
       "Country                0\n",
       "GDP (nominal, 2023)    0\n",
       "GDP (abbrev.)          0\n",
       "GDP growth             0\n",
       "Population -2023       0\n",
       "GDP per capita         0\n",
       "Share of World GDP     0\n",
       "dtype: int64"
      ]
     },
     "execution_count": 15,
     "metadata": {},
     "output_type": "execute_result"
    }
   ],
   "source": [
    "df_2.isnull().sum()"
   ]
  },
  {
   "cell_type": "code",
   "execution_count": 17,
   "id": "bf48b354-7b7c-42ea-8741-5742fb8eb9fe",
   "metadata": {},
   "outputs": [
    {
     "data": {
      "text/plain": [
       "0"
      ]
     },
     "execution_count": 17,
     "metadata": {},
     "output_type": "execute_result"
    }
   ],
   "source": [
    "df_2.duplicated().sum()"
   ]
  },
  {
   "cell_type": "code",
   "execution_count": 23,
   "id": "0b2586d1-e27e-412c-acd2-c4dfb1ee7788",
   "metadata": {},
   "outputs": [
    {
     "data": {
      "text/plain": [
       "set()"
      ]
     },
     "execution_count": 23,
     "metadata": {},
     "output_type": "execute_result"
    }
   ],
   "source": [
    "set(df['Country']) - set(df_2['Country'])"
   ]
  },
  {
   "cell_type": "code",
   "execution_count": 21,
   "id": "eda47f6c-219a-4e96-8401-8d5463aa9067",
   "metadata": {},
   "outputs": [],
   "source": [
    "df_2['Country'] = df_2['Country'].str.replace('United States', 'US')"
   ]
  },
  {
   "cell_type": "code",
   "execution_count": 25,
   "id": "a7b1f610-001b-4e27-a38a-fc5158facbd7",
   "metadata": {},
   "outputs": [
    {
     "data": {
      "text/plain": [
       "Index(['#', 'Country', 'GDP (nominal, 2023)', 'GDP (abbrev.)', 'GDP growth',\n",
       "       'Population -2023', 'GDP per capita', 'Share of World GDP'],\n",
       "      dtype='object')"
      ]
     },
     "execution_count": 25,
     "metadata": {},
     "output_type": "execute_result"
    }
   ],
   "source": [
    "df_2.columns"
   ]
  },
  {
   "cell_type": "code",
   "execution_count": 27,
   "id": "dcbaf702-607c-41ee-9386-b4d3effa4db8",
   "metadata": {},
   "outputs": [],
   "source": [
    "df = df.merge(df_2[['Country', 'GDP (nominal, 2023)', 'GDP (abbrev.)', 'GDP growth',\n",
    "       'Population -2023', 'GDP per capita', 'Share of World GDP']], on='Country', how='left')"
   ]
  },
  {
   "cell_type": "code",
   "execution_count": 29,
   "id": "aa4d1226-2dd3-4502-ac48-582ce7402336",
   "metadata": {},
   "outputs": [
    {
     "data": {
      "text/html": [
       "<div>\n",
       "<style scoped>\n",
       "    .dataframe tbody tr th:only-of-type {\n",
       "        vertical-align: middle;\n",
       "    }\n",
       "\n",
       "    .dataframe tbody tr th {\n",
       "        vertical-align: top;\n",
       "    }\n",
       "\n",
       "    .dataframe thead th {\n",
       "        text-align: right;\n",
       "    }\n",
       "</style>\n",
       "<table border=\"1\" class=\"dataframe\">\n",
       "  <thead>\n",
       "    <tr style=\"text-align: right;\">\n",
       "      <th></th>\n",
       "      <th>Country</th>\n",
       "      <th>Year</th>\n",
       "      <th>Total_Energy_Consumption_EJ</th>\n",
       "      <th>Energy Consumption EJ</th>\n",
       "      <th>Fuel type</th>\n",
       "      <th>Region</th>\n",
       "      <th>Income group</th>\n",
       "      <th>GDP (nominal, 2023)</th>\n",
       "      <th>GDP (abbrev.)</th>\n",
       "      <th>GDP growth</th>\n",
       "      <th>Population -2023</th>\n",
       "      <th>GDP per capita</th>\n",
       "      <th>Share of World GDP</th>\n",
       "    </tr>\n",
       "  </thead>\n",
       "  <tbody>\n",
       "    <tr>\n",
       "      <th>0</th>\n",
       "      <td>Canada</td>\n",
       "      <td>1965</td>\n",
       "      <td>5.00053</td>\n",
       "      <td>0.647949</td>\n",
       "      <td>Coal</td>\n",
       "      <td>North America</td>\n",
       "      <td>High income</td>\n",
       "      <td>2142470000000</td>\n",
       "      <td>$2.142 trillion</td>\n",
       "      <td>0.0125</td>\n",
       "      <td>39299105</td>\n",
       "      <td>54517</td>\n",
       "      <td>0.0202</td>\n",
       "    </tr>\n",
       "    <tr>\n",
       "      <th>1</th>\n",
       "      <td>Canada</td>\n",
       "      <td>1965</td>\n",
       "      <td>5.00053</td>\n",
       "      <td>0.000000</td>\n",
       "      <td>Geo Biomass &amp; other</td>\n",
       "      <td>North America</td>\n",
       "      <td>High income</td>\n",
       "      <td>2142470000000</td>\n",
       "      <td>$2.142 trillion</td>\n",
       "      <td>0.0125</td>\n",
       "      <td>39299105</td>\n",
       "      <td>54517</td>\n",
       "      <td>0.0202</td>\n",
       "    </tr>\n",
       "    <tr>\n",
       "      <th>2</th>\n",
       "      <td>Canada</td>\n",
       "      <td>1965</td>\n",
       "      <td>5.00053</td>\n",
       "      <td>1.257066</td>\n",
       "      <td>Hydropower</td>\n",
       "      <td>North America</td>\n",
       "      <td>High income</td>\n",
       "      <td>2142470000000</td>\n",
       "      <td>$2.142 trillion</td>\n",
       "      <td>0.0125</td>\n",
       "      <td>39299105</td>\n",
       "      <td>54517</td>\n",
       "      <td>0.0202</td>\n",
       "    </tr>\n",
       "    <tr>\n",
       "      <th>3</th>\n",
       "      <td>Canada</td>\n",
       "      <td>1965</td>\n",
       "      <td>5.00053</td>\n",
       "      <td>0.001308</td>\n",
       "      <td>Nuclear Energy</td>\n",
       "      <td>North America</td>\n",
       "      <td>High income</td>\n",
       "      <td>2142470000000</td>\n",
       "      <td>$2.142 trillion</td>\n",
       "      <td>0.0125</td>\n",
       "      <td>39299105</td>\n",
       "      <td>54517</td>\n",
       "      <td>0.0202</td>\n",
       "    </tr>\n",
       "    <tr>\n",
       "      <th>4</th>\n",
       "      <td>Canada</td>\n",
       "      <td>1965</td>\n",
       "      <td>5.00053</td>\n",
       "      <td>2.314145</td>\n",
       "      <td>Oil</td>\n",
       "      <td>North America</td>\n",
       "      <td>High income</td>\n",
       "      <td>2142470000000</td>\n",
       "      <td>$2.142 trillion</td>\n",
       "      <td>0.0125</td>\n",
       "      <td>39299105</td>\n",
       "      <td>54517</td>\n",
       "      <td>0.0202</td>\n",
       "    </tr>\n",
       "  </tbody>\n",
       "</table>\n",
       "</div>"
      ],
      "text/plain": [
       "  Country  Year  Total_Energy_Consumption_EJ  Energy Consumption EJ  \\\n",
       "0  Canada  1965                      5.00053               0.647949   \n",
       "1  Canada  1965                      5.00053               0.000000   \n",
       "2  Canada  1965                      5.00053               1.257066   \n",
       "3  Canada  1965                      5.00053               0.001308   \n",
       "4  Canada  1965                      5.00053               2.314145   \n",
       "\n",
       "             Fuel type         Region Income group  GDP (nominal, 2023)  \\\n",
       "0                 Coal  North America  High income        2142470000000   \n",
       "1  Geo Biomass & other  North America  High income        2142470000000   \n",
       "2           Hydropower  North America  High income        2142470000000   \n",
       "3       Nuclear Energy  North America  High income        2142470000000   \n",
       "4                  Oil  North America  High income        2142470000000   \n",
       "\n",
       "     GDP (abbrev.)  GDP growth  Population -2023  GDP per capita  \\\n",
       "0  $2.142 trillion      0.0125          39299105           54517   \n",
       "1  $2.142 trillion      0.0125          39299105           54517   \n",
       "2  $2.142 trillion      0.0125          39299105           54517   \n",
       "3  $2.142 trillion      0.0125          39299105           54517   \n",
       "4  $2.142 trillion      0.0125          39299105           54517   \n",
       "\n",
       "   Share of World GDP  \n",
       "0              0.0202  \n",
       "1              0.0202  \n",
       "2              0.0202  \n",
       "3              0.0202  \n",
       "4              0.0202  "
      ]
     },
     "execution_count": 29,
     "metadata": {},
     "output_type": "execute_result"
    }
   ],
   "source": [
    "df.head()"
   ]
  },
  {
   "cell_type": "code",
   "execution_count": 35,
   "id": "c9b19a50-32fe-4410-b44c-02bc771fa504",
   "metadata": {},
   "outputs": [],
   "source": [
    "df.to_csv('Energy_gdp.csv')"
   ]
  },
  {
   "cell_type": "code",
   "execution_count": null,
   "id": "0e0788c5-aa39-4e05-9b62-fe8d2880df42",
   "metadata": {},
   "outputs": [],
   "source": []
  }
 ],
 "metadata": {
  "kernelspec": {
   "display_name": "Python 3 (ipykernel)",
   "language": "python",
   "name": "python3"
  },
  "language_info": {
   "codemirror_mode": {
    "name": "ipython",
    "version": 3
   },
   "file_extension": ".py",
   "mimetype": "text/x-python",
   "name": "python",
   "nbconvert_exporter": "python",
   "pygments_lexer": "ipython3",
   "version": "3.11.9"
  }
 },
 "nbformat": 4,
 "nbformat_minor": 5
}
