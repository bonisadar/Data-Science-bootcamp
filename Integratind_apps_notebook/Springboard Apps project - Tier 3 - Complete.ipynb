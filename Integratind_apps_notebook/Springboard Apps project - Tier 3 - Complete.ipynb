{
 "cells": [
  {
   "cell_type": "markdown",
   "metadata": {
    "colab_type": "text",
    "id": "i2RUFW7TFcuh"
   },
   "source": [
    "# Springboard Apps project - Tier 3 - Complete\n",
    "\n",
    "Welcome to the Apps project! To give you a taste of your future career, we're going to walk through exactly the kind of notebook that you'd write as a data scientist. In the process, we'll be sure to signpost the general framework for our investigation - the Data Science Pipeline - as well as give reasons for why we're doing what we're doing. We're also going to apply some of the skills and knowledge you've built up in the previous unit when reading Professor Spiegelhalter's *The Art of Statistics* (hereinafter *AoS*). \n",
    "\n",
    "So let's get cracking!\n",
    "\n",
    "**Brief**\n",
    "\n",
    "Did Apple Store apps receive better reviews than Google Play apps?\n",
    "\n",
    "## Stages of the project\n",
    "\n",
    "1. Sourcing and loading \n",
    "    * Load the two datasets\n",
    "    * Pick the columns that we are going to work with \n",
    "    * Subsetting the data on this basis \n",
    " \n",
    " \n",
    "2. Cleaning, transforming and visualizing\n",
    "    * Check the data types and fix them\n",
    "    * Add a `platform` column to both the `Apple` and the `Google` dataframes\n",
    "    * Changing the column names to prepare for a join \n",
    "    * Join the two data sets\n",
    "    * Eliminate the `NaN` values\n",
    "    * Filter only those apps that have been reviewed at least once\n",
    "    * Summarize the data visually and analytically (by the column `platform`)  \n",
    "  \n",
    "  \n",
    "3. Modelling \n",
    "    * Hypothesis formulation\n",
    "    * Getting the distribution of the data\n",
    "    * Permutation test \n",
    "\n",
    "\n",
    "4. Evaluating and concluding \n",
    "    * What is our conclusion?\n",
    "    * What is our decision?\n",
    "    * Other models we could have used. \n",
    "    "
   ]
  },
  {
   "cell_type": "markdown",
   "metadata": {
    "colab_type": "text",
    "id": "QLUAXtl1Fcuk"
   },
   "source": [
    "## Importing the libraries\n",
    "\n",
    "In this case we are going to import pandas, numpy, scipy, random and matplotlib.pyplot"
   ]
  },
  {
   "cell_type": "code",
   "execution_count": 3,
   "metadata": {
    "colab": {},
    "colab_type": "code",
    "id": "XeXJOlGiFcum"
   },
   "outputs": [],
   "source": [
    "import pandas as pd\n",
    "import numpy as np\n",
    "import matplotlib.pyplot as plt\n",
    "import seaborn as sns\n",
    "# scipi is a library for statistical tests and visualizations \n",
    "from scipy import stats\n",
    "# random enables us to generate random numbers\n",
    "import random"
   ]
  },
  {
   "cell_type": "markdown",
   "metadata": {
    "colab_type": "text",
    "id": "zVD7NlPAFcup"
   },
   "source": [
    "## Stage 1 -  Sourcing and loading data"
   ]
  },
  {
   "cell_type": "markdown",
   "metadata": {
    "colab_type": "text",
    "id": "KU8bdbImFcuq"
   },
   "source": [
    "### 1a. Source and load the data\n",
    "Let's download the data from Kaggle. Kaggle is a fantastic resource: a kind of social medium for data scientists, it boasts projects, datasets and news on the freshest libraries and technologies all in one place. The data from the Apple Store can be found [here](https://www.kaggle.com/ramamet4/app-store-apple-data-set-10k-apps) and the data from Google Store can be found [here](https://www.kaggle.com/lava18/google-play-store-apps).\n",
    "Download the datasets and save them in your working directory."
   ]
  },
  {
   "cell_type": "code",
   "execution_count": 6,
   "metadata": {
    "colab": {},
    "colab_type": "code",
    "id": "laM1PB76Fcur"
   },
   "outputs": [
    {
     "data": {
      "text/html": [
       "<div>\n",
       "<style scoped>\n",
       "    .dataframe tbody tr th:only-of-type {\n",
       "        vertical-align: middle;\n",
       "    }\n",
       "\n",
       "    .dataframe tbody tr th {\n",
       "        vertical-align: top;\n",
       "    }\n",
       "\n",
       "    .dataframe thead th {\n",
       "        text-align: right;\n",
       "    }\n",
       "</style>\n",
       "<table border=\"1\" class=\"dataframe\">\n",
       "  <thead>\n",
       "    <tr style=\"text-align: right;\">\n",
       "      <th></th>\n",
       "      <th>App</th>\n",
       "      <th>Category</th>\n",
       "      <th>Rating</th>\n",
       "      <th>Reviews</th>\n",
       "      <th>Size</th>\n",
       "      <th>Installs</th>\n",
       "      <th>Type</th>\n",
       "      <th>Price</th>\n",
       "      <th>Content Rating</th>\n",
       "      <th>Genres</th>\n",
       "      <th>Last Updated</th>\n",
       "      <th>Current Ver</th>\n",
       "      <th>Android Ver</th>\n",
       "    </tr>\n",
       "  </thead>\n",
       "  <tbody>\n",
       "    <tr>\n",
       "      <th>0</th>\n",
       "      <td>Photo Editor &amp; Candy Camera &amp; Grid &amp; ScrapBook</td>\n",
       "      <td>ART_AND_DESIGN</td>\n",
       "      <td>4.1</td>\n",
       "      <td>159</td>\n",
       "      <td>19M</td>\n",
       "      <td>10,000+</td>\n",
       "      <td>Free</td>\n",
       "      <td>0</td>\n",
       "      <td>Everyone</td>\n",
       "      <td>Art &amp; Design</td>\n",
       "      <td>January 7, 2018</td>\n",
       "      <td>1.0.0</td>\n",
       "      <td>4.0.3 and up</td>\n",
       "    </tr>\n",
       "    <tr>\n",
       "      <th>1</th>\n",
       "      <td>Coloring book moana</td>\n",
       "      <td>ART_AND_DESIGN</td>\n",
       "      <td>3.9</td>\n",
       "      <td>967</td>\n",
       "      <td>14M</td>\n",
       "      <td>500,000+</td>\n",
       "      <td>Free</td>\n",
       "      <td>0</td>\n",
       "      <td>Everyone</td>\n",
       "      <td>Art &amp; Design;Pretend Play</td>\n",
       "      <td>January 15, 2018</td>\n",
       "      <td>2.0.0</td>\n",
       "      <td>4.0.3 and up</td>\n",
       "    </tr>\n",
       "    <tr>\n",
       "      <th>2</th>\n",
       "      <td>U Launcher Lite – FREE Live Cool Themes, Hide ...</td>\n",
       "      <td>ART_AND_DESIGN</td>\n",
       "      <td>4.7</td>\n",
       "      <td>87510</td>\n",
       "      <td>8.7M</td>\n",
       "      <td>5,000,000+</td>\n",
       "      <td>Free</td>\n",
       "      <td>0</td>\n",
       "      <td>Everyone</td>\n",
       "      <td>Art &amp; Design</td>\n",
       "      <td>August 1, 2018</td>\n",
       "      <td>1.2.4</td>\n",
       "      <td>4.0.3 and up</td>\n",
       "    </tr>\n",
       "  </tbody>\n",
       "</table>\n",
       "</div>"
      ],
      "text/plain": [
       "                                                 App        Category  Rating  \\\n",
       "0     Photo Editor & Candy Camera & Grid & ScrapBook  ART_AND_DESIGN     4.1   \n",
       "1                                Coloring book moana  ART_AND_DESIGN     3.9   \n",
       "2  U Launcher Lite – FREE Live Cool Themes, Hide ...  ART_AND_DESIGN     4.7   \n",
       "\n",
       "  Reviews  Size    Installs  Type Price Content Rating  \\\n",
       "0     159   19M     10,000+  Free     0       Everyone   \n",
       "1     967   14M    500,000+  Free     0       Everyone   \n",
       "2   87510  8.7M  5,000,000+  Free     0       Everyone   \n",
       "\n",
       "                      Genres      Last Updated Current Ver   Android Ver  \n",
       "0               Art & Design   January 7, 2018       1.0.0  4.0.3 and up  \n",
       "1  Art & Design;Pretend Play  January 15, 2018       2.0.0  4.0.3 and up  \n",
       "2               Art & Design    August 1, 2018       1.2.4  4.0.3 and up  "
      ]
     },
     "execution_count": 6,
     "metadata": {},
     "output_type": "execute_result"
    }
   ],
   "source": [
    "# Now that the files are saved, we want to load them into Python using read_csv and pandas.\n",
    "\n",
    "# Create a variable called google, and store in it the path of the csv file that contains your google dataset. \n",
    "# If your dataset is in the same folder as this notebook, the path will simply be the name of the file. \n",
    "google = '../data/googleplaystore.csv'\n",
    "\n",
    "# Read the csv file into a data frame called Google using the read_csv() pandas method.\n",
    "Google = pd.read_csv(google)\n",
    "# Using the head() pandas method, observe the first three entries.\n",
    "Google.head(3)"
   ]
  },
  {
   "cell_type": "code",
   "execution_count": 7,
   "metadata": {
    "colab": {},
    "colab_type": "code",
    "id": "3AW8EA1wFcuu"
   },
   "outputs": [
    {
     "data": {
      "text/html": [
       "<div>\n",
       "<style scoped>\n",
       "    .dataframe tbody tr th:only-of-type {\n",
       "        vertical-align: middle;\n",
       "    }\n",
       "\n",
       "    .dataframe tbody tr th {\n",
       "        vertical-align: top;\n",
       "    }\n",
       "\n",
       "    .dataframe thead th {\n",
       "        text-align: right;\n",
       "    }\n",
       "</style>\n",
       "<table border=\"1\" class=\"dataframe\">\n",
       "  <thead>\n",
       "    <tr style=\"text-align: right;\">\n",
       "      <th></th>\n",
       "      <th>Unnamed: 0</th>\n",
       "      <th>id</th>\n",
       "      <th>track_name</th>\n",
       "      <th>size_bytes</th>\n",
       "      <th>currency</th>\n",
       "      <th>price</th>\n",
       "      <th>rating_count_tot</th>\n",
       "      <th>rating_count_ver</th>\n",
       "      <th>user_rating</th>\n",
       "      <th>user_rating_ver</th>\n",
       "      <th>ver</th>\n",
       "      <th>cont_rating</th>\n",
       "      <th>prime_genre</th>\n",
       "      <th>sup_devices.num</th>\n",
       "      <th>ipadSc_urls.num</th>\n",
       "      <th>lang.num</th>\n",
       "      <th>vpp_lic</th>\n",
       "    </tr>\n",
       "  </thead>\n",
       "  <tbody>\n",
       "    <tr>\n",
       "      <th>0</th>\n",
       "      <td>1</td>\n",
       "      <td>281656475</td>\n",
       "      <td>PAC-MAN Premium</td>\n",
       "      <td>100788224</td>\n",
       "      <td>USD</td>\n",
       "      <td>3.99</td>\n",
       "      <td>21292</td>\n",
       "      <td>26</td>\n",
       "      <td>4.0</td>\n",
       "      <td>4.5</td>\n",
       "      <td>6.3.5</td>\n",
       "      <td>4+</td>\n",
       "      <td>Games</td>\n",
       "      <td>38</td>\n",
       "      <td>5</td>\n",
       "      <td>10</td>\n",
       "      <td>1</td>\n",
       "    </tr>\n",
       "    <tr>\n",
       "      <th>1</th>\n",
       "      <td>2</td>\n",
       "      <td>281796108</td>\n",
       "      <td>Evernote - stay organized</td>\n",
       "      <td>158578688</td>\n",
       "      <td>USD</td>\n",
       "      <td>0.00</td>\n",
       "      <td>161065</td>\n",
       "      <td>26</td>\n",
       "      <td>4.0</td>\n",
       "      <td>3.5</td>\n",
       "      <td>8.2.2</td>\n",
       "      <td>4+</td>\n",
       "      <td>Productivity</td>\n",
       "      <td>37</td>\n",
       "      <td>5</td>\n",
       "      <td>23</td>\n",
       "      <td>1</td>\n",
       "    </tr>\n",
       "    <tr>\n",
       "      <th>2</th>\n",
       "      <td>3</td>\n",
       "      <td>281940292</td>\n",
       "      <td>WeatherBug - Local Weather, Radar, Maps, Alerts</td>\n",
       "      <td>100524032</td>\n",
       "      <td>USD</td>\n",
       "      <td>0.00</td>\n",
       "      <td>188583</td>\n",
       "      <td>2822</td>\n",
       "      <td>3.5</td>\n",
       "      <td>4.5</td>\n",
       "      <td>5.0.0</td>\n",
       "      <td>4+</td>\n",
       "      <td>Weather</td>\n",
       "      <td>37</td>\n",
       "      <td>5</td>\n",
       "      <td>3</td>\n",
       "      <td>1</td>\n",
       "    </tr>\n",
       "  </tbody>\n",
       "</table>\n",
       "</div>"
      ],
      "text/plain": [
       "   Unnamed: 0         id                                       track_name  \\\n",
       "0           1  281656475                                  PAC-MAN Premium   \n",
       "1           2  281796108                        Evernote - stay organized   \n",
       "2           3  281940292  WeatherBug - Local Weather, Radar, Maps, Alerts   \n",
       "\n",
       "   size_bytes currency  price  rating_count_tot  rating_count_ver  \\\n",
       "0   100788224      USD   3.99             21292                26   \n",
       "1   158578688      USD   0.00            161065                26   \n",
       "2   100524032      USD   0.00            188583              2822   \n",
       "\n",
       "   user_rating  user_rating_ver    ver cont_rating   prime_genre  \\\n",
       "0          4.0              4.5  6.3.5          4+         Games   \n",
       "1          4.0              3.5  8.2.2          4+  Productivity   \n",
       "2          3.5              4.5  5.0.0          4+       Weather   \n",
       "\n",
       "   sup_devices.num  ipadSc_urls.num  lang.num  vpp_lic  \n",
       "0               38                5        10        1  \n",
       "1               37                5        23        1  \n",
       "2               37                5         3        1  "
      ]
     },
     "execution_count": 7,
     "metadata": {},
     "output_type": "execute_result"
    }
   ],
   "source": [
    "# Create a variable called apple, and store in it the path of the csv file that contains your apple dataset. \n",
    "apple = '../data/AppleStore.csv'\n",
    "\n",
    "# Read the csv file into a pandas DataFrame object called Apple.\n",
    "Apple = pd.read_csv(apple)\n",
    "\n",
    "# Observe the first three entries like you did with your other data. \n",
    "Apple.head(3)"
   ]
  },
  {
   "cell_type": "markdown",
   "metadata": {
    "colab_type": "text",
    "id": "vljOHKNTFcuw"
   },
   "source": [
    "### 1b. Pick the columns we'll work with\n",
    "\n",
    "From the documentation of these datasets, we can infer that the most appropriate columns to answer the brief are:\n",
    "\n",
    "1. Google:\n",
    "    * `Category` # Do we need this?\n",
    "    * `Rating`\n",
    "    * `Reviews`\n",
    "    * `Price` (maybe)\n",
    "2. Apple:    \n",
    "    * `prime_genre` # Do we need this?\n",
    "    * `user_rating` \n",
    "    * `rating_count_tot`\n",
    "    * `price` (maybe)"
   ]
  },
  {
   "cell_type": "markdown",
   "metadata": {
    "colab_type": "text",
    "id": "uf69AeTvFcux"
   },
   "source": [
    "### 1c. Subsetting accordingly\n",
    "\n",
    "Let's select only those columns that we want to work with from both datasets. We'll overwrite the subsets in the original variables."
   ]
  },
  {
   "cell_type": "code",
   "execution_count": 10,
   "metadata": {
    "colab": {},
    "colab_type": "code",
    "id": "LNSDXyjdFcuy"
   },
   "outputs": [
    {
     "data": {
      "text/html": [
       "<div>\n",
       "<style scoped>\n",
       "    .dataframe tbody tr th:only-of-type {\n",
       "        vertical-align: middle;\n",
       "    }\n",
       "\n",
       "    .dataframe tbody tr th {\n",
       "        vertical-align: top;\n",
       "    }\n",
       "\n",
       "    .dataframe thead th {\n",
       "        text-align: right;\n",
       "    }\n",
       "</style>\n",
       "<table border=\"1\" class=\"dataframe\">\n",
       "  <thead>\n",
       "    <tr style=\"text-align: right;\">\n",
       "      <th></th>\n",
       "      <th>Category</th>\n",
       "      <th>Rating</th>\n",
       "      <th>Reviews</th>\n",
       "      <th>Price</th>\n",
       "    </tr>\n",
       "  </thead>\n",
       "  <tbody>\n",
       "    <tr>\n",
       "      <th>0</th>\n",
       "      <td>ART_AND_DESIGN</td>\n",
       "      <td>4.1</td>\n",
       "      <td>159</td>\n",
       "      <td>0</td>\n",
       "    </tr>\n",
       "    <tr>\n",
       "      <th>1</th>\n",
       "      <td>ART_AND_DESIGN</td>\n",
       "      <td>3.9</td>\n",
       "      <td>967</td>\n",
       "      <td>0</td>\n",
       "    </tr>\n",
       "    <tr>\n",
       "      <th>2</th>\n",
       "      <td>ART_AND_DESIGN</td>\n",
       "      <td>4.7</td>\n",
       "      <td>87510</td>\n",
       "      <td>0</td>\n",
       "    </tr>\n",
       "  </tbody>\n",
       "</table>\n",
       "</div>"
      ],
      "text/plain": [
       "         Category  Rating Reviews Price\n",
       "0  ART_AND_DESIGN     4.1     159     0\n",
       "1  ART_AND_DESIGN     3.9     967     0\n",
       "2  ART_AND_DESIGN     4.7   87510     0"
      ]
     },
     "execution_count": 10,
     "metadata": {},
     "output_type": "execute_result"
    }
   ],
   "source": [
    "# Subset our DataFrame object Google by selecting just the variables ['Category', 'Rating', 'Reviews', 'Price']\n",
    "Google = Google[['Category', 'Rating', 'Reviews', 'Price']]\n",
    "\n",
    "# Check the first three entries\n",
    "Google.head(3)"
   ]
  },
  {
   "cell_type": "code",
   "execution_count": 11,
   "metadata": {
    "colab": {},
    "colab_type": "code",
    "id": "AVCtENPtFcu0"
   },
   "outputs": [
    {
     "data": {
      "text/html": [
       "<div>\n",
       "<style scoped>\n",
       "    .dataframe tbody tr th:only-of-type {\n",
       "        vertical-align: middle;\n",
       "    }\n",
       "\n",
       "    .dataframe tbody tr th {\n",
       "        vertical-align: top;\n",
       "    }\n",
       "\n",
       "    .dataframe thead th {\n",
       "        text-align: right;\n",
       "    }\n",
       "</style>\n",
       "<table border=\"1\" class=\"dataframe\">\n",
       "  <thead>\n",
       "    <tr style=\"text-align: right;\">\n",
       "      <th></th>\n",
       "      <th>prime_genre</th>\n",
       "      <th>user_rating</th>\n",
       "      <th>rating_count_tot</th>\n",
       "      <th>price</th>\n",
       "    </tr>\n",
       "  </thead>\n",
       "  <tbody>\n",
       "    <tr>\n",
       "      <th>0</th>\n",
       "      <td>Games</td>\n",
       "      <td>4.0</td>\n",
       "      <td>21292</td>\n",
       "      <td>3.99</td>\n",
       "    </tr>\n",
       "    <tr>\n",
       "      <th>1</th>\n",
       "      <td>Productivity</td>\n",
       "      <td>4.0</td>\n",
       "      <td>161065</td>\n",
       "      <td>0.00</td>\n",
       "    </tr>\n",
       "    <tr>\n",
       "      <th>2</th>\n",
       "      <td>Weather</td>\n",
       "      <td>3.5</td>\n",
       "      <td>188583</td>\n",
       "      <td>0.00</td>\n",
       "    </tr>\n",
       "  </tbody>\n",
       "</table>\n",
       "</div>"
      ],
      "text/plain": [
       "    prime_genre  user_rating  rating_count_tot  price\n",
       "0         Games          4.0             21292   3.99\n",
       "1  Productivity          4.0            161065   0.00\n",
       "2       Weather          3.5            188583   0.00"
      ]
     },
     "execution_count": 11,
     "metadata": {},
     "output_type": "execute_result"
    }
   ],
   "source": [
    "# Do the same with our Apple object, selecting just the variables ['prime_genre', 'user_rating', 'rating_count_tot', 'price']\n",
    "Apple = Apple[['prime_genre', 'user_rating', 'rating_count_tot', 'price']]\n",
    "\n",
    "# Let's check the first three entries\n",
    "Apple.head(3)"
   ]
  },
  {
   "cell_type": "markdown",
   "metadata": {
    "colab_type": "text",
    "id": "wwK2wH-rFcu2"
   },
   "source": [
    "## Stage 2 -  Cleaning, transforming and visualizing"
   ]
  },
  {
   "cell_type": "markdown",
   "metadata": {
    "colab_type": "text",
    "id": "NsoE5x0JFcu3"
   },
   "source": [
    "### 2a. Check the data types for both Apple and Google, and fix them\n",
    "\n",
    "Types are crucial for data science in Python. Let's determine whether the variables we selected in the previous section belong to the types they should do, or whether there are any errors here. "
   ]
  },
  {
   "cell_type": "code",
   "execution_count": 14,
   "metadata": {
    "colab": {},
    "colab_type": "code",
    "id": "ymw10SaWFcu4"
   },
   "outputs": [
    {
     "data": {
      "text/plain": [
       "prime_genre          object\n",
       "user_rating         float64\n",
       "rating_count_tot      int64\n",
       "price               float64\n",
       "dtype: object"
      ]
     },
     "execution_count": 14,
     "metadata": {},
     "output_type": "execute_result"
    }
   ],
   "source": [
    "# Using the dtypes feature of pandas DataFrame objects, check out the data types within our Apple dataframe.\n",
    "# Are they what you expect?\n",
    "Apple.dtypes"
   ]
  },
  {
   "cell_type": "markdown",
   "metadata": {
    "colab_type": "text",
    "id": "VAiM6jIxFcu6"
   },
   "source": [
    "This is looking healthy. But what about our Google data frame?"
   ]
  },
  {
   "cell_type": "code",
   "execution_count": 16,
   "metadata": {
    "colab": {},
    "colab_type": "code",
    "id": "kmP8MhqyFcu7"
   },
   "outputs": [
    {
     "data": {
      "text/plain": [
       "Category     object\n",
       "Rating      float64\n",
       "Reviews      object\n",
       "Price        object\n",
       "dtype: object"
      ]
     },
     "execution_count": 16,
     "metadata": {},
     "output_type": "execute_result"
    }
   ],
   "source": [
    "# Using the same dtypes feature, check out the data types of our Google dataframe. \n",
    "Google.dtypes"
   ]
  },
  {
   "cell_type": "markdown",
   "metadata": {
    "colab_type": "text",
    "id": "O-dxAy0WFcu9"
   },
   "source": [
    "Weird. The data type for the column 'Price' is 'object', not a numeric data type like a float or an integer. Let's investigate the unique values of this column. "
   ]
  },
  {
   "cell_type": "code",
   "execution_count": 18,
   "metadata": {
    "colab": {},
    "colab_type": "code",
    "id": "Hu08K9y7Fcu9"
   },
   "outputs": [
    {
     "data": {
      "text/plain": [
       "array(['0', '$4.99', '$3.99', '$6.99', '$1.49', '$2.99', '$7.99', '$5.99',\n",
       "       '$3.49', '$1.99', '$9.99', '$7.49', '$0.99', '$9.00', '$5.49',\n",
       "       '$10.00', '$24.99', '$11.99', '$79.99', '$16.99', '$14.99',\n",
       "       '$1.00', '$29.99', '$12.99', '$2.49', '$10.99', '$1.50', '$19.99',\n",
       "       '$15.99', '$33.99', '$74.99', '$39.99', '$3.95', '$4.49', '$1.70',\n",
       "       '$8.99', '$2.00', '$3.88', '$25.99', '$399.99', '$17.99',\n",
       "       '$400.00', '$3.02', '$1.76', '$4.84', '$4.77', '$1.61', '$2.50',\n",
       "       '$1.59', '$6.49', '$1.29', '$5.00', '$13.99', '$299.99', '$379.99',\n",
       "       '$37.99', '$18.99', '$389.99', '$19.90', '$8.49', '$1.75',\n",
       "       '$14.00', '$4.85', '$46.99', '$109.99', '$154.99', '$3.08',\n",
       "       '$2.59', '$4.80', '$1.96', '$19.40', '$3.90', '$4.59', '$15.46',\n",
       "       '$3.04', '$4.29', '$2.60', '$3.28', '$4.60', '$28.99', '$2.95',\n",
       "       '$2.90', '$1.97', '$200.00', '$89.99', '$2.56', '$30.99', '$3.61',\n",
       "       '$394.99', '$1.26', 'Everyone', '$1.20', '$1.04'], dtype=object)"
      ]
     },
     "execution_count": 18,
     "metadata": {},
     "output_type": "execute_result"
    }
   ],
   "source": [
    "# Use the unique() pandas method on the Price column to check its unique values. \n",
    "Google.Price.unique()"
   ]
  },
  {
   "cell_type": "markdown",
   "metadata": {
    "colab_type": "text",
    "id": "w_7nkogFFcu_"
   },
   "source": [
    "Aha! Fascinating. There are actually two issues here. \n",
    "\n",
    "- Firstly, there's a price called `Everyone`. That is a massive mistake! \n",
    "- Secondly, there are dollar symbols everywhere! \n",
    "\n",
    "\n",
    "Let's address the first issue first. Let's check the datapoints that have the price value `Everyone`"
   ]
  },
  {
   "cell_type": "code",
   "execution_count": 20,
   "metadata": {
    "colab": {},
    "colab_type": "code",
    "id": "E75WWmhdFcvA"
   },
   "outputs": [
    {
     "data": {
      "text/html": [
       "<div>\n",
       "<style scoped>\n",
       "    .dataframe tbody tr th:only-of-type {\n",
       "        vertical-align: middle;\n",
       "    }\n",
       "\n",
       "    .dataframe tbody tr th {\n",
       "        vertical-align: top;\n",
       "    }\n",
       "\n",
       "    .dataframe thead th {\n",
       "        text-align: right;\n",
       "    }\n",
       "</style>\n",
       "<table border=\"1\" class=\"dataframe\">\n",
       "  <thead>\n",
       "    <tr style=\"text-align: right;\">\n",
       "      <th></th>\n",
       "      <th>Category</th>\n",
       "      <th>Rating</th>\n",
       "      <th>Reviews</th>\n",
       "      <th>Price</th>\n",
       "    </tr>\n",
       "  </thead>\n",
       "  <tbody>\n",
       "    <tr>\n",
       "      <th>10472</th>\n",
       "      <td>1.9</td>\n",
       "      <td>19.0</td>\n",
       "      <td>3.0M</td>\n",
       "      <td>Everyone</td>\n",
       "    </tr>\n",
       "  </tbody>\n",
       "</table>\n",
       "</div>"
      ],
      "text/plain": [
       "      Category  Rating Reviews     Price\n",
       "10472      1.9    19.0    3.0M  Everyone"
      ]
     },
     "execution_count": 20,
     "metadata": {},
     "output_type": "execute_result"
    }
   ],
   "source": [
    "# Let's check which data points have the value 'Everyone' for the 'Price' column by subsetting our Google dataframe.\n",
    "\n",
    "# Subset the Google dataframe on the price column. \n",
    "# To be sure: you want to pick out just those rows whose value for the 'Price' column is just 'Everyone'. \n",
    "Google[Google['Price'] == 'Everyone']"
   ]
  },
  {
   "cell_type": "markdown",
   "metadata": {
    "colab_type": "text",
    "id": "ezfLshdRFcvC"
   },
   "source": [
    "Thankfully, it's just one row. We've gotta get rid of it. "
   ]
  },
  {
   "cell_type": "code",
   "execution_count": 22,
   "metadata": {
    "colab": {},
    "colab_type": "code",
    "id": "DBmjUQUkFcvD"
   },
   "outputs": [
    {
     "data": {
      "text/plain": [
       "array(['0', '$4.99', '$3.99', '$6.99', '$1.49', '$2.99', '$7.99', '$5.99',\n",
       "       '$3.49', '$1.99', '$9.99', '$7.49', '$0.99', '$9.00', '$5.49',\n",
       "       '$10.00', '$24.99', '$11.99', '$79.99', '$16.99', '$14.99',\n",
       "       '$1.00', '$29.99', '$12.99', '$2.49', '$10.99', '$1.50', '$19.99',\n",
       "       '$15.99', '$33.99', '$74.99', '$39.99', '$3.95', '$4.49', '$1.70',\n",
       "       '$8.99', '$2.00', '$3.88', '$25.99', '$399.99', '$17.99',\n",
       "       '$400.00', '$3.02', '$1.76', '$4.84', '$4.77', '$1.61', '$2.50',\n",
       "       '$1.59', '$6.49', '$1.29', '$5.00', '$13.99', '$299.99', '$379.99',\n",
       "       '$37.99', '$18.99', '$389.99', '$19.90', '$8.49', '$1.75',\n",
       "       '$14.00', '$4.85', '$46.99', '$109.99', '$154.99', '$3.08',\n",
       "       '$2.59', '$4.80', '$1.96', '$19.40', '$3.90', '$4.59', '$15.46',\n",
       "       '$3.04', '$4.29', '$2.60', '$3.28', '$4.60', '$28.99', '$2.95',\n",
       "       '$2.90', '$1.97', '$200.00', '$89.99', '$2.56', '$30.99', '$3.61',\n",
       "       '$394.99', '$1.26', '$1.20', '$1.04'], dtype=object)"
      ]
     },
     "execution_count": 22,
     "metadata": {},
     "output_type": "execute_result"
    }
   ],
   "source": [
    "# Let's eliminate that row. \n",
    "\n",
    "# Subset our Google dataframe to pick out just those rows whose value for the 'Price' column is NOT 'Everyone'. \n",
    "# Reassign that subset to the Google variable. \n",
    "# You can do this in two lines or one. Your choice! \n",
    "Google = Google[Google['Price'] != 'Everyone']\n",
    "\n",
    "# Check again the unique values of Google\n",
    "Google.Price.unique()"
   ]
  },
  {
   "cell_type": "markdown",
   "metadata": {
    "colab_type": "text",
    "id": "T43TB4qFFcvF"
   },
   "source": [
    "Our second problem remains: I'm seeing dollar symbols when I close my eyes! (And not in a good way). \n",
    "\n",
    "This is a problem because Python actually considers these values strings. So we can't do mathematical and statistical operations on them until we've made them into numbers. "
   ]
  },
  {
   "cell_type": "code",
   "execution_count": 24,
   "metadata": {
    "colab": {},
    "colab_type": "code",
    "id": "W87gVS9BFcvG"
   },
   "outputs": [],
   "source": [
    "# Let's create a variable called nosymb.\n",
    "# This variable will take the Price column of Google and apply the str.replace() method. \n",
    "nosymb = Google.Price.str.replace('$', '')\n",
    "\n",
    "# Now we need to do two things:\n",
    "# i. Make the values in the nosymb variable numeric using the to_numeric() pandas method.\n",
    "# ii. Assign this new set of numeric, dollar-sign-less values to Google['Price']. \n",
    "# You can do this in one line if you wish.\n",
    "Google.Price = pd.to_numeric(nosymb)"
   ]
  },
  {
   "cell_type": "markdown",
   "metadata": {
    "colab_type": "text",
    "id": "LxpJQ9yyFcvI"
   },
   "source": [
    "Now let's check the data types for our Google dataframe again, to verify that the 'Price' column really is numeric now."
   ]
  },
  {
   "cell_type": "code",
   "execution_count": 26,
   "metadata": {
    "colab": {},
    "colab_type": "code",
    "id": "Fn5Gt-QbFcvI"
   },
   "outputs": [
    {
     "data": {
      "text/plain": [
       "Category     object\n",
       "Rating      float64\n",
       "Reviews      object\n",
       "Price       float64\n",
       "dtype: object"
      ]
     },
     "execution_count": 26,
     "metadata": {},
     "output_type": "execute_result"
    }
   ],
   "source": [
    "# Use the function dtypes. \n",
    "Google.dtypes"
   ]
  },
  {
   "cell_type": "markdown",
   "metadata": {
    "colab_type": "text",
    "id": "FgfuiVo0FcvK"
   },
   "source": [
    "Notice that the column `Reviews` is still an object column. We actually need this column to be a numeric column, too. "
   ]
  },
  {
   "cell_type": "code",
   "execution_count": 28,
   "metadata": {
    "colab": {},
    "colab_type": "code",
    "id": "MiVEWsWBFcvL"
   },
   "outputs": [],
   "source": [
    "# Convert the 'Reviews' column to a numeric data type. \n",
    "Google.Reviews = pd.to_numeric(Google.Price)"
   ]
  },
  {
   "cell_type": "code",
   "execution_count": 29,
   "metadata": {
    "colab": {},
    "colab_type": "code",
    "id": "wWJdXXTTFcvN"
   },
   "outputs": [
    {
     "data": {
      "text/plain": [
       "Category     object\n",
       "Rating      float64\n",
       "Reviews     float64\n",
       "Price       float64\n",
       "dtype: object"
      ]
     },
     "execution_count": 29,
     "metadata": {},
     "output_type": "execute_result"
    }
   ],
   "source": [
    "# Let's check the data types of Google again\n",
    "Google.dtypes"
   ]
  },
  {
   "cell_type": "markdown",
   "metadata": {
    "colab_type": "text",
    "id": "OiLm2GEKFcvP"
   },
   "source": [
    "### 2b. Add a `platform` column to both the `Apple` and the `Google` dataframes\n",
    "Let's add a new column to both dataframe objects called `platform`: all of its values in the Google dataframe will be just 'google', and all of its values for the Apple dataframe will be just 'apple'. \n",
    "\n",
    "The reason we're making this column is so that we can ultimately join our Apple and Google data together, and actually test out some hypotheses to solve the problem in our brief. "
   ]
  },
  {
   "cell_type": "code",
   "execution_count": 31,
   "metadata": {
    "colab": {},
    "colab_type": "code",
    "id": "mF-sOcx2FcvQ"
   },
   "outputs": [],
   "source": [
    "# Create a column called 'platform' in both the Apple and Google dataframes. \n",
    "# Add the value 'apple' and the value 'google' as appropriate. \n",
    "Google['platform'] = 'google'\n",
    "Apple['platform'] = 'apple'"
   ]
  },
  {
   "cell_type": "markdown",
   "metadata": {
    "colab_type": "text",
    "id": "EJcry17IFcvS"
   },
   "source": [
    "### 2c. Changing the column names to prepare for our join of the two datasets \n",
    "Since the easiest way to join two datasets is if they have both:\n",
    "- the same number of columns\n",
    "- the same column names\n",
    "we need to rename the columns of `Apple` so that they're the same as the ones of `Google`, or vice versa.\n",
    "\n",
    "In this case, we're going to change the `Apple` columns names to the names of the `Google` columns. \n",
    "\n",
    "This is an important step to unify the two datasets!"
   ]
  },
  {
   "cell_type": "code",
   "execution_count": 33,
   "metadata": {
    "colab": {},
    "colab_type": "code",
    "id": "bdt9XH2KFcvT"
   },
   "outputs": [],
   "source": [
    "# Create a variable called old_names where you'll store the column names of the Apple dataframe. \n",
    "# Use the feature .columns.\n",
    "old_names = Apple.columns\n",
    "\n",
    "# Create a variable called new_names where you'll store the column names of the Google dataframe. \n",
    "new_names = Google.columns\n",
    "\n",
    "# Use the rename() DataFrame method to change the columns names. \n",
    "rename_mapping = dict(zip(old_names, new_names))\n",
    "Apple = Apple.rename(columns=rename_mapping)"
   ]
  },
  {
   "cell_type": "markdown",
   "metadata": {
    "colab_type": "text",
    "id": "qewPiLrRFcvX"
   },
   "source": [
    "### 2d. Join the two datasets \n",
    "Let's combine the two datasets into a single data frame called `df`."
   ]
  },
  {
   "cell_type": "code",
   "execution_count": 35,
   "metadata": {
    "colab": {},
    "colab_type": "code",
    "id": "jq6fGfvyFcvY"
   },
   "outputs": [
    {
     "data": {
      "text/html": [
       "<div>\n",
       "<style scoped>\n",
       "    .dataframe tbody tr th:only-of-type {\n",
       "        vertical-align: middle;\n",
       "    }\n",
       "\n",
       "    .dataframe tbody tr th {\n",
       "        vertical-align: top;\n",
       "    }\n",
       "\n",
       "    .dataframe thead th {\n",
       "        text-align: right;\n",
       "    }\n",
       "</style>\n",
       "<table border=\"1\" class=\"dataframe\">\n",
       "  <thead>\n",
       "    <tr style=\"text-align: right;\">\n",
       "      <th></th>\n",
       "      <th>Category</th>\n",
       "      <th>Rating</th>\n",
       "      <th>Reviews</th>\n",
       "      <th>Price</th>\n",
       "      <th>platform</th>\n",
       "    </tr>\n",
       "  </thead>\n",
       "  <tbody>\n",
       "    <tr>\n",
       "      <th>1330</th>\n",
       "      <td>HEALTH_AND_FITNESS</td>\n",
       "      <td>4.5</td>\n",
       "      <td>0.00</td>\n",
       "      <td>0.00</td>\n",
       "      <td>google</td>\n",
       "    </tr>\n",
       "    <tr>\n",
       "      <th>16187</th>\n",
       "      <td>Sports</td>\n",
       "      <td>2.5</td>\n",
       "      <td>30.00</td>\n",
       "      <td>0.00</td>\n",
       "      <td>apple</td>\n",
       "    </tr>\n",
       "    <tr>\n",
       "      <th>1124</th>\n",
       "      <td>FINANCE</td>\n",
       "      <td>3.9</td>\n",
       "      <td>0.00</td>\n",
       "      <td>0.00</td>\n",
       "      <td>google</td>\n",
       "    </tr>\n",
       "    <tr>\n",
       "      <th>11580</th>\n",
       "      <td>Utilities</td>\n",
       "      <td>4.0</td>\n",
       "      <td>936.00</td>\n",
       "      <td>0.00</td>\n",
       "      <td>apple</td>\n",
       "    </tr>\n",
       "    <tr>\n",
       "      <th>8236</th>\n",
       "      <td>PHOTOGRAPHY</td>\n",
       "      <td>3.0</td>\n",
       "      <td>3.49</td>\n",
       "      <td>3.49</td>\n",
       "      <td>google</td>\n",
       "    </tr>\n",
       "    <tr>\n",
       "      <th>4726</th>\n",
       "      <td>VIDEO_PLAYERS</td>\n",
       "      <td>1.9</td>\n",
       "      <td>0.00</td>\n",
       "      <td>0.00</td>\n",
       "      <td>google</td>\n",
       "    </tr>\n",
       "    <tr>\n",
       "      <th>5619</th>\n",
       "      <td>FAMILY</td>\n",
       "      <td>4.4</td>\n",
       "      <td>0.00</td>\n",
       "      <td>0.00</td>\n",
       "      <td>google</td>\n",
       "    </tr>\n",
       "    <tr>\n",
       "      <th>14710</th>\n",
       "      <td>Games</td>\n",
       "      <td>4.5</td>\n",
       "      <td>1354.00</td>\n",
       "      <td>0.00</td>\n",
       "      <td>apple</td>\n",
       "    </tr>\n",
       "    <tr>\n",
       "      <th>6388</th>\n",
       "      <td>FAMILY</td>\n",
       "      <td>4.8</td>\n",
       "      <td>0.00</td>\n",
       "      <td>0.00</td>\n",
       "      <td>google</td>\n",
       "    </tr>\n",
       "    <tr>\n",
       "      <th>8994</th>\n",
       "      <td>NEWS_AND_MAGAZINES</td>\n",
       "      <td>4.7</td>\n",
       "      <td>0.00</td>\n",
       "      <td>0.00</td>\n",
       "      <td>google</td>\n",
       "    </tr>\n",
       "    <tr>\n",
       "      <th>3784</th>\n",
       "      <td>NEWS_AND_MAGAZINES</td>\n",
       "      <td>4.2</td>\n",
       "      <td>0.00</td>\n",
       "      <td>0.00</td>\n",
       "      <td>google</td>\n",
       "    </tr>\n",
       "    <tr>\n",
       "      <th>9804</th>\n",
       "      <td>VIDEO_PLAYERS</td>\n",
       "      <td>4.0</td>\n",
       "      <td>0.00</td>\n",
       "      <td>0.00</td>\n",
       "      <td>google</td>\n",
       "    </tr>\n",
       "  </tbody>\n",
       "</table>\n",
       "</div>"
      ],
      "text/plain": [
       "                 Category  Rating  Reviews  Price platform\n",
       "1330   HEALTH_AND_FITNESS     4.5     0.00   0.00   google\n",
       "16187              Sports     2.5    30.00   0.00    apple\n",
       "1124              FINANCE     3.9     0.00   0.00   google\n",
       "11580           Utilities     4.0   936.00   0.00    apple\n",
       "8236          PHOTOGRAPHY     3.0     3.49   3.49   google\n",
       "4726        VIDEO_PLAYERS     1.9     0.00   0.00   google\n",
       "5619               FAMILY     4.4     0.00   0.00   google\n",
       "14710               Games     4.5  1354.00   0.00    apple\n",
       "6388               FAMILY     4.8     0.00   0.00   google\n",
       "8994   NEWS_AND_MAGAZINES     4.7     0.00   0.00   google\n",
       "3784   NEWS_AND_MAGAZINES     4.2     0.00   0.00   google\n",
       "9804        VIDEO_PLAYERS     4.0     0.00   0.00   google"
      ]
     },
     "execution_count": 35,
     "metadata": {},
     "output_type": "execute_result"
    }
   ],
   "source": [
    "# Let's use the append() method to append Apple to Google\n",
    "df = pd.concat([Google, Apple], ignore_index=True)\n",
    "# Using the sample() method with the number 12 passed to it, check 12 random points of your dataset.\n",
    "df.sample(12)"
   ]
  },
  {
   "cell_type": "markdown",
   "metadata": {
    "colab_type": "text",
    "id": "FjqsHugWFcvb"
   },
   "source": [
    "### 2e. Eliminate the NaN values\n",
    "\n",
    "As you can see there are some `NaN` values. We want to eliminate all these `NaN` values from the table."
   ]
  },
  {
   "cell_type": "code",
   "execution_count": 37,
   "metadata": {
    "colab": {},
    "colab_type": "code",
    "id": "Gp2q6GLyFcvb"
   },
   "outputs": [
    {
     "name": "stdout",
     "output_type": "stream",
     "text": [
      "(18037, 5)\n",
      "(16563, 5)\n"
     ]
    }
   ],
   "source": [
    "# Lets check first the dimesions of df before droping `NaN` values. Use the .shape feature. \n",
    "print(df.shape)\n",
    "\n",
    "# Use the dropna() method to eliminate all the NaN values, and overwrite the same dataframe with the result. \n",
    "df.dropna(inplace=True)\n",
    "\n",
    "# Check the new dimesions of our dataframe. \n",
    "print(df.shape)"
   ]
  },
  {
   "cell_type": "markdown",
   "metadata": {
    "colab_type": "text",
    "id": "qtfeQKtAFcvd"
   },
   "source": [
    "### 2f. Filter the data so that we only see whose apps that have been reviewed at least once\n",
    "\n",
    "Apps that haven't been reviewed yet can't help us solve our brief. \n",
    "\n",
    "So let's check to see if any apps have no reviews at all. "
   ]
  },
  {
   "cell_type": "code",
   "execution_count": 39,
   "metadata": {
    "colab": {},
    "colab_type": "code",
    "id": "Ge9OKXLNFcvd"
   },
   "outputs": [
    {
     "data": {
      "text/plain": [
       "Category    9648\n",
       "Rating      9648\n",
       "Reviews     9648\n",
       "Price       9648\n",
       "platform    9648\n",
       "dtype: int64"
      ]
     },
     "execution_count": 39,
     "metadata": {},
     "output_type": "execute_result"
    }
   ],
   "source": [
    "# Subset your df to pick out just those rows whose value for 'Reviews' is equal to 0. \n",
    "# Do a count() on the result. \n",
    "df[df['Reviews'] == 0.0].count()"
   ]
  },
  {
   "cell_type": "code",
   "execution_count": 40,
   "metadata": {
    "colab": {},
    "colab_type": "code",
    "id": "Ge9OKXLNFcvd"
   },
   "outputs": [
    {
     "data": {
      "text/plain": [
       "9648"
      ]
     },
     "execution_count": 40,
     "metadata": {},
     "output_type": "execute_result"
    }
   ],
   "source": [
    "# Subset your df to pick out just those rows whose value for 'Reviews' is equal to 0. \n",
    "# Do a count() on the result. \n",
    "(df['Reviews'] == 0.0).sum()"
   ]
  },
  {
   "cell_type": "code",
   "execution_count": 41,
   "metadata": {
    "colab": {},
    "colab_type": "code",
    "id": "Ge9OKXLNFcvd"
   },
   "outputs": [
    {
     "data": {
      "text/plain": [
       "9648"
      ]
     },
     "execution_count": 41,
     "metadata": {},
     "output_type": "execute_result"
    }
   ],
   "source": [
    "# Subset your df to pick out just those rows whose value for 'Reviews' is equal to 0. \n",
    "# Do a count() on the result. \n",
    "df[df[\"Reviews\"] == 0].shape[0]"
   ]
  },
  {
   "cell_type": "code",
   "execution_count": 42,
   "metadata": {
    "colab": {},
    "colab_type": "code",
    "id": "Ge9OKXLNFcvd"
   },
   "outputs": [
    {
     "data": {
      "text/plain": [
       "9648"
      ]
     },
     "execution_count": 42,
     "metadata": {},
     "output_type": "execute_result"
    }
   ],
   "source": [
    "# Subset your df to pick out just those rows whose value for 'Reviews' is equal to 0. \n",
    "# Do a count() on the result. \n",
    "len(df[df[\"Reviews\"] == 0])"
   ]
  },
  {
   "cell_type": "code",
   "execution_count": 43,
   "metadata": {
    "colab": {},
    "colab_type": "code",
    "id": "Ge9OKXLNFcvd"
   },
   "outputs": [],
   "source": [
    "# Subset your df to pick out just those rows whose value for 'Reviews' is equal to 0. \n",
    "# Do a count() on the result. \n",
    "no_review = df[df[\"Reviews\"] == 0]"
   ]
  },
  {
   "cell_type": "code",
   "execution_count": 44,
   "metadata": {},
   "outputs": [
    {
     "data": {
      "text/html": [
       "<div>\n",
       "<style scoped>\n",
       "    .dataframe tbody tr th:only-of-type {\n",
       "        vertical-align: middle;\n",
       "    }\n",
       "\n",
       "    .dataframe tbody tr th {\n",
       "        vertical-align: top;\n",
       "    }\n",
       "\n",
       "    .dataframe thead th {\n",
       "        text-align: right;\n",
       "    }\n",
       "</style>\n",
       "<table border=\"1\" class=\"dataframe\">\n",
       "  <thead>\n",
       "    <tr style=\"text-align: right;\">\n",
       "      <th></th>\n",
       "      <th>Category</th>\n",
       "      <th>Rating</th>\n",
       "      <th>Reviews</th>\n",
       "      <th>Price</th>\n",
       "      <th>platform</th>\n",
       "    </tr>\n",
       "  </thead>\n",
       "  <tbody>\n",
       "    <tr>\n",
       "      <th>0</th>\n",
       "      <td>ART_AND_DESIGN</td>\n",
       "      <td>4.1</td>\n",
       "      <td>0.0</td>\n",
       "      <td>0.00</td>\n",
       "      <td>google</td>\n",
       "    </tr>\n",
       "    <tr>\n",
       "      <th>1</th>\n",
       "      <td>ART_AND_DESIGN</td>\n",
       "      <td>3.9</td>\n",
       "      <td>0.0</td>\n",
       "      <td>0.00</td>\n",
       "      <td>google</td>\n",
       "    </tr>\n",
       "    <tr>\n",
       "      <th>2</th>\n",
       "      <td>ART_AND_DESIGN</td>\n",
       "      <td>4.7</td>\n",
       "      <td>0.0</td>\n",
       "      <td>0.00</td>\n",
       "      <td>google</td>\n",
       "    </tr>\n",
       "    <tr>\n",
       "      <th>3</th>\n",
       "      <td>ART_AND_DESIGN</td>\n",
       "      <td>4.5</td>\n",
       "      <td>0.0</td>\n",
       "      <td>0.00</td>\n",
       "      <td>google</td>\n",
       "    </tr>\n",
       "    <tr>\n",
       "      <th>4</th>\n",
       "      <td>ART_AND_DESIGN</td>\n",
       "      <td>4.3</td>\n",
       "      <td>0.0</td>\n",
       "      <td>0.00</td>\n",
       "      <td>google</td>\n",
       "    </tr>\n",
       "    <tr>\n",
       "      <th>...</th>\n",
       "      <td>...</td>\n",
       "      <td>...</td>\n",
       "      <td>...</td>\n",
       "      <td>...</td>\n",
       "      <td>...</td>\n",
       "    </tr>\n",
       "    <tr>\n",
       "      <th>18021</th>\n",
       "      <td>Games</td>\n",
       "      <td>0.0</td>\n",
       "      <td>0.0</td>\n",
       "      <td>0.99</td>\n",
       "      <td>apple</td>\n",
       "    </tr>\n",
       "    <tr>\n",
       "      <th>18022</th>\n",
       "      <td>Photo &amp; Video</td>\n",
       "      <td>0.0</td>\n",
       "      <td>0.0</td>\n",
       "      <td>0.00</td>\n",
       "      <td>apple</td>\n",
       "    </tr>\n",
       "    <tr>\n",
       "      <th>18024</th>\n",
       "      <td>Games</td>\n",
       "      <td>0.0</td>\n",
       "      <td>0.0</td>\n",
       "      <td>0.00</td>\n",
       "      <td>apple</td>\n",
       "    </tr>\n",
       "    <tr>\n",
       "      <th>18025</th>\n",
       "      <td>Games</td>\n",
       "      <td>0.0</td>\n",
       "      <td>0.0</td>\n",
       "      <td>0.99</td>\n",
       "      <td>apple</td>\n",
       "    </tr>\n",
       "    <tr>\n",
       "      <th>18029</th>\n",
       "      <td>Games</td>\n",
       "      <td>0.0</td>\n",
       "      <td>0.0</td>\n",
       "      <td>0.99</td>\n",
       "      <td>apple</td>\n",
       "    </tr>\n",
       "  </tbody>\n",
       "</table>\n",
       "<p>9648 rows × 5 columns</p>\n",
       "</div>"
      ],
      "text/plain": [
       "             Category  Rating  Reviews  Price platform\n",
       "0      ART_AND_DESIGN     4.1      0.0   0.00   google\n",
       "1      ART_AND_DESIGN     3.9      0.0   0.00   google\n",
       "2      ART_AND_DESIGN     4.7      0.0   0.00   google\n",
       "3      ART_AND_DESIGN     4.5      0.0   0.00   google\n",
       "4      ART_AND_DESIGN     4.3      0.0   0.00   google\n",
       "...               ...     ...      ...    ...      ...\n",
       "18021           Games     0.0      0.0   0.99    apple\n",
       "18022   Photo & Video     0.0      0.0   0.00    apple\n",
       "18024           Games     0.0      0.0   0.00    apple\n",
       "18025           Games     0.0      0.0   0.99    apple\n",
       "18029           Games     0.0      0.0   0.99    apple\n",
       "\n",
       "[9648 rows x 5 columns]"
      ]
     },
     "execution_count": 44,
     "metadata": {},
     "output_type": "execute_result"
    }
   ],
   "source": [
    "no_review"
   ]
  },
  {
   "cell_type": "code",
   "execution_count": 45,
   "metadata": {},
   "outputs": [
    {
     "data": {
      "text/html": [
       "<div>\n",
       "<style scoped>\n",
       "    .dataframe tbody tr th:only-of-type {\n",
       "        vertical-align: middle;\n",
       "    }\n",
       "\n",
       "    .dataframe tbody tr th {\n",
       "        vertical-align: top;\n",
       "    }\n",
       "\n",
       "    .dataframe thead th {\n",
       "        text-align: right;\n",
       "    }\n",
       "</style>\n",
       "<table border=\"1\" class=\"dataframe\">\n",
       "  <thead>\n",
       "    <tr style=\"text-align: right;\">\n",
       "      <th></th>\n",
       "      <th>Category</th>\n",
       "      <th>Rating</th>\n",
       "      <th>Reviews</th>\n",
       "      <th>Price</th>\n",
       "      <th>platform</th>\n",
       "    </tr>\n",
       "  </thead>\n",
       "  <tbody>\n",
       "  </tbody>\n",
       "</table>\n",
       "</div>"
      ],
      "text/plain": [
       "Empty DataFrame\n",
       "Columns: [Category, Rating, Reviews, Price, platform]\n",
       "Index: []"
      ]
     },
     "execution_count": 45,
     "metadata": {},
     "output_type": "execute_result"
    }
   ],
   "source": [
    "no_review[no_review['Reviews'] != 0]"
   ]
  },
  {
   "cell_type": "markdown",
   "metadata": {
    "colab_type": "text",
    "id": "05f7H0kAFcvg"
   },
   "source": [
    "929 apps do not have reviews, we need to eliminate these points!"
   ]
  },
  {
   "cell_type": "markdown",
   "metadata": {},
   "source": [
    "It seems there are 9648 apps with no reviews."
   ]
  },
  {
   "cell_type": "code",
   "execution_count": 48,
   "metadata": {
    "colab": {},
    "colab_type": "code",
    "id": "pD8vmPjkFcvg"
   },
   "outputs": [],
   "source": [
    "# Eliminate the points that have 0 reviews.\n",
    "df = df[df[\"Reviews\"] != 0]"
   ]
  },
  {
   "cell_type": "code",
   "execution_count": 49,
   "metadata": {},
   "outputs": [
    {
     "data": {
      "text/plain": [
       "(6915, 5)"
      ]
     },
     "execution_count": 49,
     "metadata": {},
     "output_type": "execute_result"
    }
   ],
   "source": [
    "df.shape"
   ]
  },
  {
   "cell_type": "markdown",
   "metadata": {
    "colab_type": "text",
    "id": "ApnKES_bFcvi"
   },
   "source": [
    "### 2g. Summarize the data visually and analytically (by the column `platform`)"
   ]
  },
  {
   "cell_type": "markdown",
   "metadata": {
    "colab_type": "text",
    "id": "2smt9UocFcvj"
   },
   "source": [
    "What we need to solve our brief is a summary of the `Rating` column, but separated by the different platforms."
   ]
  },
  {
   "cell_type": "code",
   "execution_count": 52,
   "metadata": {
    "colab": {},
    "colab_type": "code",
    "id": "Vqckt347Fcvj"
   },
   "outputs": [
    {
     "data": {
      "text/plain": [
       "platform\n",
       "apple     4.049697\n",
       "google    4.266615\n",
       "Name: Rating, dtype: float64"
      ]
     },
     "execution_count": 52,
     "metadata": {},
     "output_type": "execute_result"
    }
   ],
   "source": [
    "# To summarize analytically, let's use the groupby() method on our df.\n",
    "df.groupby('platform')['Rating'].mean()"
   ]
  },
  {
   "cell_type": "markdown",
   "metadata": {
    "colab_type": "text",
    "id": "8f9TqMtKFcvl"
   },
   "source": [
    "Interesting! Our means of 4.049697 and 4.191757 (4.266615) don't **seem** all that different! Perhaps we've solved our brief already: there's no significant difference between Google Play app reviews and Apple Store app reviews. We have an ***observed difference*** here: which is simply (4.191757 - 4.049697) = 0.14206 (0.216918). This is just the actual difference that we observed between the mean rating for apps from Google Play, and the mean rating for apps from the Apple Store. Let's look at how we're going to use this observed difference to solve our problem using a statistical test. \n",
    "\n",
    "**Outline of our method:**\n",
    "1. We'll assume that platform (i.e, whether the app was Google or Apple) really doesn’t impact on ratings. \n",
    "\n",
    "\n",
    "2. Given this assumption, we should actually be able to get a difference in mean rating for Apple apps and mean rating for Google apps that's pretty similar to the one we actually got (0.14206) just by: \n",
    "a. shuffling the ratings column, \n",
    "b. keeping the platform column the same,\n",
    "c. calculating the difference between the mean rating for Apple and the mean rating for Google. \n",
    "\n",
    "\n",
    "3. We can make the shuffle more useful by doing it many times, each time calculating the mean rating for Apple apps and the mean rating for Google apps, and the difference between these means. \n",
    "\n",
    "\n",
    "4. We can then take the mean of all these differences, and this will be called our permutation difference. This permutation difference will be great indicator of what the difference would be if our initial assumption were true and platform really doesn’t impact on ratings. \n",
    "\n",
    "\n",
    "5. Now we do a comparison. If the observed difference looks just like the permutation difference, then we stick with the claim that actually, platform doesn’t impact on ratings. If instead, however, the permutation difference differs significantly from the observed difference, we'll conclude: something's going on; the platform does in fact impact on ratings. \n",
    "\n",
    "\n",
    "6. As for what the definition of *significantly* is, we'll get to that. But there’s a brief summary of what we're going to do. Exciting!\n",
    "\n",
    "If you want to look more deeply at the statistics behind this project, check out [this resource](https://www.springboard.com/archeio/download/4ea4d453b0b84014bcef287c50f47f00/)."
   ]
  },
  {
   "cell_type": "markdown",
   "metadata": {
    "colab_type": "text",
    "id": "d6EhTxArFcvm"
   },
   "source": [
    "Let's also get a **visual summary** of the `Rating` column, separated by the different platforms. \n",
    "\n",
    "A good tool to use here is the boxplot!"
   ]
  },
  {
   "cell_type": "code",
   "execution_count": 55,
   "metadata": {
    "colab": {},
    "colab_type": "code",
    "id": "hFKjrlWgFcvm"
   },
   "outputs": [
    {
     "data": {
      "text/plain": [
       "Text(0, 0.5, 'Rating')"
      ]
     },
     "execution_count": 55,
     "metadata": {},
     "output_type": "execute_result"
    },
    {
     "data": {
      "image/png": "[encoded data removed]",
      "text/plain": [
       "<Figure size 640x480 with 1 Axes>"
      ]
     },
     "metadata": {},
     "output_type": "display_data"
    }
   ],
   "source": [
    "# Call the boxplot() method on our df.\n",
    "_ = sns.boxplot(data=df, x='platform', y='Rating')\n",
    "plt.title('Rating Distribution by Platform')\n",
    "plt.xlabel('Platform')\n",
    "plt.ylabel('Rating')"
   ]
  },
  {
   "cell_type": "code",
   "execution_count": 56,
   "metadata": {},
   "outputs": [
    {
     "data": {
      "text/plain": [
       "Text(0, 0.5, 'Rating')"
      ]
     },
     "execution_count": 56,
     "metadata": {},
     "output_type": "execute_result"
    },
    {
     "data": {
      "image/png": "[encoded data removed]",
      "text/plain": [
       "<Figure size 640x480 with 1 Axes>"
      ]
     },
     "metadata": {},
     "output_type": "display_data"
    }
   ],
   "source": [
    "df.boxplot(column='Rating', by='platform', grid=False)\n",
    "plt.title('Rating Distribution by Platform')\n",
    "plt.suptitle('')  # Remove the automatic subplot title\n",
    "plt.xlabel('Platform')\n",
    "plt.ylabel('Rating')"
   ]
  },
  {
   "cell_type": "markdown",
   "metadata": {
    "colab_type": "text",
    "id": "FqTlAjnmFcvo"
   },
   "source": [
    "Here we see the same information as in the analytical summary, but with a boxplot. Can you see how the boxplot is working here? If you need to revise your boxplots, check out this this [link](https://www.kaggle.com/ramamet4/app-store-apple-data-set-10k-apps). "
   ]
  },
  {
   "cell_type": "markdown",
   "metadata": {
    "colab_type": "text",
    "id": "O8L-s1fgFcvp"
   },
   "source": [
    "## Stage 3 - Modelling"
   ]
  },
  {
   "cell_type": "markdown",
   "metadata": {
    "colab_type": "text",
    "id": "5fbRq2MZFcvq"
   },
   "source": [
    "### 3a. Hypothesis formulation\n",
    "\n",
    "Our **Null hypothesis** is just:\n",
    "\n",
    "**H<sub>null</sub>**: the observed difference in the mean rating of Apple Store and Google Play apps is due to chance (and thus not due to the platform).\n",
    "\n",
    "The more interesting hypothesis is called the **Alternate hypothesis**:\n",
    "\n",
    "**H<sub>alternative</sub>**: the observed difference in the average ratings of apple and google users is not due to chance (and is actually due to platform)\n",
    "\n",
    "We're also going to pick a **significance level** of 0.05. "
   ]
  },
  {
   "cell_type": "markdown",
   "metadata": {
    "colab_type": "text",
    "id": "TjBqkabaFcvq"
   },
   "source": [
    "### 3b. Getting the distribution of the data\n",
    "Now that the hypotheses and significance level are defined, we can select a statistical test to determine which hypothesis to accept. \n",
    "\n",
    "There are many different statistical tests, all with different assumptions. You'll generate an excellent judgement about when to use which statistical tests over the Data Science Career Track course. But in general, one of the most important things to determine is the **distribution of the data**.   "
   ]
  },
  {
   "cell_type": "code",
   "execution_count": 61,
   "metadata": {
    "colab": {},
    "colab_type": "code",
    "id": "bFwVhkeWFcvr"
   },
   "outputs": [],
   "source": [
    "# Create a subset of the column 'Rating' by the different platforms.\n",
    "# Call the subsets 'apple' and 'google' \n",
    "apple = df[df['platform'] == 'apple' ]['Rating']\n",
    "google = df[df['platform'] ==  'google']['Rating']"
   ]
  },
  {
   "cell_type": "code",
   "execution_count": 62,
   "metadata": {
    "colab": {},
    "colab_type": "code",
    "id": "oPPFpwPvFcvu"
   },
   "outputs": [
    {
     "name": "stdout",
     "output_type": "stream",
     "text": [
      "NormaltestResult(statistic=1778.9974234584017, pvalue=0.0)\n"
     ]
    }
   ],
   "source": [
    "# Using the stats.normaltest() method, get an indication of whether the apple data are normally distributed\n",
    "# Save the result in a variable called apple_normal, and print it out\n",
    "apple_normal = stats.normaltest(apple)\n",
    "print(apple_normal)"
   ]
  },
  {
   "cell_type": "code",
   "execution_count": 63,
   "metadata": {
    "colab": {},
    "colab_type": "code",
    "id": "rCdh8a8KFcvw"
   },
   "outputs": [
    {
     "name": "stdout",
     "output_type": "stream",
     "text": [
      "NormaltestResult(statistic=285.4265367481438, pvalue=1.0481297563638832e-62)\n"
     ]
    }
   ],
   "source": [
    "# Do the same with the google data. \n",
    "google_normal = stats.normaltest(google)\n",
    "print(google_normal)"
   ]
  },
  {
   "cell_type": "markdown",
   "metadata": {
    "colab_type": "text",
    "id": "9gDqu21yFcv0"
   },
   "source": [
    "Since the null hypothesis of the normaltest() is that the data are normally distributed, the lower the p-value in the result of this test, the more likely the data are to be non-normal. \n",
    "\n",
    "Since the p-values is 0 for both tests, regardless of what we pick for the significance level, our conclusion is that the data are not normally distributed. \n",
    "\n",
    "We can actually also check out the distribution of the data visually with a histogram. A normal distribution has the following visual characteristics:\n",
    "    - symmetric\n",
    "    - unimodal (one hump)\n",
    "As well as a roughly identical mean, median and mode. "
   ]
  },
  {
   "cell_type": "code",
   "execution_count": 65,
   "metadata": {
    "colab": {},
    "colab_type": "code",
    "id": "P9tT9RjNFcv1"
   },
   "outputs": [
    {
     "data": {
      "image/png": "[encoded data removed]",
      "text/plain": [
       "<Figure size 640x480 with 1 Axes>"
      ]
     },
     "metadata": {},
     "output_type": "display_data"
    }
   ],
   "source": [
    "# Create a histogram of the apple reviews distribution\n",
    "\n",
    "_ = plt.hist(df[df['platform'] == 'apple']['Reviews'], bins=30)"
   ]
  },
  {
   "cell_type": "code",
   "execution_count": 66,
   "metadata": {
    "colab": {},
    "colab_type": "code",
    "id": "8dE1uC5iFcv2"
   },
   "outputs": [
    {
     "data": {
      "image/png": "[encoded data removed]",
      "text/plain": [
       "<Figure size 640x480 with 1 Axes>"
      ]
     },
     "metadata": {},
     "output_type": "display_data"
    }
   ],
   "source": [
    "# Create a histogram of the google data\n",
    "_ = plt.hist(df[df['platform'] == 'google']['Reviews'], bins=30)"
   ]
  },
  {
   "cell_type": "markdown",
   "metadata": {
    "colab_type": "text",
    "id": "QhZV89FzFcv5"
   },
   "source": [
    "### 3c. Permutation test\n",
    "Since the data aren't normally distributed, we're using a *non-parametric* test here. This is simply a label for statistical tests used when the data aren't normally distributed. These tests are extraordinarily powerful due to how few assumptions we need to make.  \n",
    "\n",
    "Check out more about permutations [here.](http://rasbt.github.io/mlxtend/user_guide/evaluate/permutation_test/)"
   ]
  },
  {
   "cell_type": "code",
   "execution_count": 68,
   "metadata": {
    "colab": {},
    "colab_type": "code",
    "id": "bxNhQgpqFcv6"
   },
   "outputs": [
    {
     "data": {
      "text/html": [
       "<div>\n",
       "<style scoped>\n",
       "    .dataframe tbody tr th:only-of-type {\n",
       "        vertical-align: middle;\n",
       "    }\n",
       "\n",
       "    .dataframe tbody tr th {\n",
       "        vertical-align: top;\n",
       "    }\n",
       "\n",
       "    .dataframe thead th {\n",
       "        text-align: right;\n",
       "    }\n",
       "</style>\n",
       "<table border=\"1\" class=\"dataframe\">\n",
       "  <thead>\n",
       "    <tr style=\"text-align: right;\">\n",
       "      <th></th>\n",
       "      <th>count</th>\n",
       "      <th>mean</th>\n",
       "      <th>std</th>\n",
       "      <th>min</th>\n",
       "      <th>25%</th>\n",
       "      <th>50%</th>\n",
       "      <th>75%</th>\n",
       "      <th>max</th>\n",
       "    </tr>\n",
       "    <tr>\n",
       "      <th>platform</th>\n",
       "      <th></th>\n",
       "      <th></th>\n",
       "      <th></th>\n",
       "      <th></th>\n",
       "      <th></th>\n",
       "      <th></th>\n",
       "      <th></th>\n",
       "      <th></th>\n",
       "    </tr>\n",
       "  </thead>\n",
       "  <tbody>\n",
       "    <tr>\n",
       "      <th>apple</th>\n",
       "      <td>6268.0</td>\n",
       "      <td>4.073405</td>\n",
       "      <td>0.708846</td>\n",
       "      <td>1.0</td>\n",
       "      <td>4.0</td>\n",
       "      <td>4.4</td>\n",
       "      <td>4.5</td>\n",
       "      <td>5.0</td>\n",
       "    </tr>\n",
       "    <tr>\n",
       "      <th>google</th>\n",
       "      <td>647.0</td>\n",
       "      <td>4.036940</td>\n",
       "      <td>0.770295</td>\n",
       "      <td>1.0</td>\n",
       "      <td>3.5</td>\n",
       "      <td>4.5</td>\n",
       "      <td>4.5</td>\n",
       "      <td>5.0</td>\n",
       "    </tr>\n",
       "  </tbody>\n",
       "</table>\n",
       "</div>"
      ],
      "text/plain": [
       "           count      mean       std  min  25%  50%  75%  max\n",
       "platform                                                     \n",
       "apple     6268.0  4.073405  0.708846  1.0  4.0  4.4  4.5  5.0\n",
       "google     647.0  4.036940  0.770295  1.0  3.5  4.5  4.5  5.0"
      ]
     },
     "execution_count": 68,
     "metadata": {},
     "output_type": "execute_result"
    }
   ],
   "source": [
    "# Create a column called `Permutation1`, and assign to it the result of permuting (shuffling) the Rating column\n",
    "# This assignment will use our numpy object's random.permutation() method\n",
    "df['Permutation1'] = np.random.permutation(df['Rating'])\n",
    "\n",
    "# Call the describe() method on our permutation grouped by 'platform'. \n",
    "df.groupby('platform')['Permutation1'].describe()"
   ]
  },
  {
   "cell_type": "code",
   "execution_count": 69,
   "metadata": {
    "colab": {},
    "colab_type": "code",
    "id": "AaGNfPGTFcv7"
   },
   "outputs": [
    {
     "data": {
      "text/html": [
       "<div>\n",
       "<style scoped>\n",
       "    .dataframe tbody tr th:only-of-type {\n",
       "        vertical-align: middle;\n",
       "    }\n",
       "\n",
       "    .dataframe tbody tr th {\n",
       "        vertical-align: top;\n",
       "    }\n",
       "\n",
       "    .dataframe thead th {\n",
       "        text-align: right;\n",
       "    }\n",
       "</style>\n",
       "<table border=\"1\" class=\"dataframe\">\n",
       "  <thead>\n",
       "    <tr style=\"text-align: right;\">\n",
       "      <th></th>\n",
       "      <th>count</th>\n",
       "      <th>mean</th>\n",
       "      <th>std</th>\n",
       "      <th>min</th>\n",
       "      <th>25%</th>\n",
       "      <th>50%</th>\n",
       "      <th>75%</th>\n",
       "      <th>max</th>\n",
       "    </tr>\n",
       "    <tr>\n",
       "      <th>platform</th>\n",
       "      <th></th>\n",
       "      <th></th>\n",
       "      <th></th>\n",
       "      <th></th>\n",
       "      <th></th>\n",
       "      <th></th>\n",
       "      <th></th>\n",
       "      <th></th>\n",
       "    </tr>\n",
       "  </thead>\n",
       "  <tbody>\n",
       "    <tr>\n",
       "      <th>apple</th>\n",
       "      <td>6268.0</td>\n",
       "      <td>4.049697</td>\n",
       "      <td>0.726943</td>\n",
       "      <td>1.0</td>\n",
       "      <td>4.0</td>\n",
       "      <td>4.5</td>\n",
       "      <td>4.5</td>\n",
       "      <td>5.0</td>\n",
       "    </tr>\n",
       "    <tr>\n",
       "      <th>google</th>\n",
       "      <td>647.0</td>\n",
       "      <td>4.266615</td>\n",
       "      <td>0.547523</td>\n",
       "      <td>1.0</td>\n",
       "      <td>4.1</td>\n",
       "      <td>4.4</td>\n",
       "      <td>4.6</td>\n",
       "      <td>5.0</td>\n",
       "    </tr>\n",
       "  </tbody>\n",
       "</table>\n",
       "</div>"
      ],
      "text/plain": [
       "           count      mean       std  min  25%  50%  75%  max\n",
       "platform                                                     \n",
       "apple     6268.0  4.049697  0.726943  1.0  4.0  4.5  4.5  5.0\n",
       "google     647.0  4.266615  0.547523  1.0  4.1  4.4  4.6  5.0"
      ]
     },
     "execution_count": 69,
     "metadata": {},
     "output_type": "execute_result"
    }
   ],
   "source": [
    "# Lets compare with the previous analytical summary:\n",
    "df.groupby('platform')['Rating'].describe()"
   ]
  },
  {
   "cell_type": "code",
   "execution_count": 70,
   "metadata": {
    "colab": {},
    "colab_type": "code",
    "id": "aJPNpX0JFcv-"
   },
   "outputs": [],
   "source": [
    "# The difference in the means for Permutation1 (0.001103) now looks hugely different to our observed difference of 0.14206. \n",
    "# It's sure starting to look like our observed difference is significant, and that the Null is false; platform does impact on ratings\n",
    "# But to be sure, let's create 10,000 permutations, calculate the mean ratings for Google and Apple apps and the difference between these for each one, and then take the average of all of these differences.\n",
    "# Let's create a vector with the differences - that will be the distibution of the Null.\n",
    "\n",
    "# First, make a list called difference.\n",
    "difference = []\n",
    "\n",
    "# Now make a for loop that does the following 10,000 times:\n",
    "# 1. makes a permutation of the 'Rating' as you did above\n",
    "# 2. calculates the difference in the mean rating for apple and the mean rating for google. \n",
    "for i in range(10000):\n",
    "    df['Permutation1'] = np.random.permutation(df['Rating'])\n",
    "    mean_diff = df[df['platform'] == 'apple']['Permutation1'].mean() - df[df['platform'] == 'google']['Permutation1'].mean()\n",
    "    difference.append(mean_diff)    "
   ]
  },
  {
   "cell_type": "code",
   "execution_count": 71,
   "metadata": {},
   "outputs": [
    {
     "data": {
      "text/plain": [
       "[0.011569893544304932,\n",
       " 0.011228866428827367,\n",
       " 0.026063545952109912,\n",
       " 0.009694244409176989,\n",
       " -0.02168025021477593,\n",
       " 0.01685581383421031,\n",
       " -0.008039165595666198,\n",
       " -0.03736749752675195,\n",
       " 0.03220203403070876,\n",
       " -0.01895203329095274,\n",
       " -0.004969921556365442,\n",
       " 0.04413798307242889,\n",
       " -0.01315457232783146,\n",
       " -0.015541762136176196,\n",
       " -0.011108409634966065,\n",
       " -2.502838193940704e-05,\n",
       " 0.05692649990284515,\n",
       " -0.03515082127614644,\n",
       " -0.05100858214586257,\n",
       " 0.014980164699082366,\n",
       " -0.007357111364711066,\n",
       " 0.06187139307727296,\n",
       " -0.03617390262258002,\n",
       " -0.057317583782199755,\n",
       " 0.03424819672357504,\n",
       " -0.003946840209932745,\n",
       " -0.027477711177897213,\n",
       " -2.502838193940704e-05,\n",
       " -0.031058495890413873,\n",
       " -0.0726638039786982,\n",
       " 0.01242246133299929,\n",
       " -0.0017301639593272355,\n",
       " 0.027598167971759402,\n",
       " -0.0008775961706337654,\n",
       " -0.009062246942098895,\n",
       " 0.02043659854672697,\n",
       " -0.03856109243092476,\n",
       " 0.041921306821825155,\n",
       " 0.035441791627747854,\n",
       " -0.045381634740479626,\n",
       " 0.031690493357492855,\n",
       " 0.012251947775260952,\n",
       " -0.012643031654614667,\n",
       " 0.02555200527889223,\n",
       " 0.035441791627747854,\n",
       " 0.022994301912809156,\n",
       " 0.047036713553991305,\n",
       " -0.0008775961706337654,\n",
       " -0.03958417377735657,\n",
       " -0.05458936685837834,\n",
       " -0.013836626558788367,\n",
       " -0.020316141752863892,\n",
       " -0.005310948671843896,\n",
       " -0.058681692244111794,\n",
       " 0.024358410374720307,\n",
       " -0.010767382519485835,\n",
       " -0.01741741127130414,\n",
       " 0.08574329116071544,\n",
       " 0.01890197652707659,\n",
       " 0.03066741201105838,\n",
       " -0.024408467138596457,\n",
       " -0.012131490981398763,\n",
       " 0.040557198359913116,\n",
       " -0.011278923192704404,\n",
       " 0.01685581383421031,\n",
       " 0.01753786806516544,\n",
       " 0.07483042346542756,\n",
       " 0.006454486812138782,\n",
       " -0.015541762136176196,\n",
       " -0.003946840209932745,\n",
       " 0.00679551392761546,\n",
       " 0.007989108831788272,\n",
       " -0.005822489345058912,\n",
       " 0.0004865122912782738,\n",
       " 0.018219922296120572,\n",
       " 0.012934002006215195,\n",
       " 0.02708662729854172,\n",
       " -0.016735357040347232,\n",
       " -0.004799407998627991,\n",
       " -0.008380192711143764,\n",
       " 0.00526089190796597,\n",
       " -0.03839057887318553,\n",
       " -0.008039165595666198,\n",
       " -0.009744301173054914,\n",
       " -0.007868652037926083,\n",
       " 0.005942946138921101,\n",
       " -0.015030221462958515,\n",
       " -0.06874199215070576,\n",
       " -0.014007140116526706,\n",
       " 0.0004865122912782738,\n",
       " -0.004799407998626215,\n",
       " -0.003605813094455179,\n",
       " 0.022994301912808268,\n",
       " -0.033786712814236175,\n",
       " -0.037367497526752835,\n",
       " -0.0017301639593272355,\n",
       " 0.03663538653191889,\n",
       " 0.01753786806516544,\n",
       " 0.03646487297418055,\n",
       " 0.02998535778010325,\n",
       " -0.07488048022930371,\n",
       " -0.020486655310604007,\n",
       " 0.03254306114618721,\n",
       " -0.007186597806970951,\n",
       " -0.03429825348745208,\n",
       " 0.028962276433669665,\n",
       " -0.028159765408853232,\n",
       " 0.017708381622905556,\n",
       " -0.0527137177232504,\n",
       " -0.005140435114104669,\n",
       " 0.001339080079971744,\n",
       " 0.03919308989800285,\n",
       " 0.026234059509847363,\n",
       " 0.042091820379563494,\n",
       " 0.02572251883663146,\n",
       " -0.019975114637387215,\n",
       " -0.046916256760129116,\n",
       " -0.05322525839646719,\n",
       " 0.0313494662420144,\n",
       " 0.029473817106886457,\n",
       " 0.009353217293699423,\n",
       " 0.027427654414020175,\n",
       " 0.025893032394370685,\n",
       " 0.05607393211415079,\n",
       " 0.020948139219942874,\n",
       " -0.0019006775170664625,\n",
       " 0.00031599873353904684,\n",
       " 0.015832732487776724,\n",
       " 0.006966027485354687,\n",
       " -0.03941366021961823,\n",
       " 0.031690493357492855,\n",
       " 0.0073070546008331405,\n",
       " -0.025943089158247723,\n",
       " -0.0001955419396777458,\n",
       " -0.013495599443309914,\n",
       " -0.01758792482904248,\n",
       " -0.020145628195125553,\n",
       " -0.0001955419396777458,\n",
       " -0.0001955419396777458,\n",
       " 0.02998535778010325,\n",
       " -0.02321487223442542,\n",
       " 0.0044083241192725,\n",
       " 0.016344273160993517,\n",
       " -0.033104658583280155,\n",
       " -0.009744301173054914,\n",
       " 0.020948139219942874,\n",
       " -0.0007070826128936503,\n",
       " 0.020948139219942874,\n",
       " 0.003044215657361349,\n",
       " -0.027989251851113117,\n",
       " 0.058631635480234756,\n",
       " -0.032422604352325024,\n",
       " 0.0463546593230344,\n",
       " -0.01093789607722595,\n",
       " -0.01690587059808646,\n",
       " 0.030155871337842477,\n",
       " -0.017076384155826574,\n",
       " 0.02623405950984825,\n",
       " -0.02202127733025261,\n",
       " 0.01821992229612146,\n",
       " 0.01600324604551595,\n",
       " -0.06840096503522641,\n",
       " 0.023164815470548383,\n",
       " -0.023044358676687082,\n",
       " -0.005651975787320573,\n",
       " -0.015712275693915423,\n",
       " 0.002362161426404441,\n",
       " 0.018560949411599026,\n",
       " -0.02389692646538144,\n",
       " 0.007818595274049933,\n",
       " -0.0058224893450598,\n",
       " -0.011619950308182858,\n",
       " -0.03344568569875772,\n",
       " -0.03191106367910734,\n",
       " 0.015491705372300046,\n",
       " 0.00952373085143865,\n",
       " 0.022141734124115686,\n",
       " -0.041800850027962966,\n",
       " 0.056585472787368474,\n",
       " 0.015832732487776724,\n",
       " 0.013104515563954422,\n",
       " -0.04401752627856759,\n",
       " -0.029694387428501834,\n",
       " -0.005651975787320573,\n",
       " 0.057267527018323605,\n",
       " 0.013957083352650557,\n",
       " 0.004067297003794934,\n",
       " 0.006966027485355575,\n",
       " 0.045672605092079266,\n",
       " 0.009012190178221857,\n",
       " -0.020316141752863892,\n",
       " -0.034468767045191306,\n",
       " 0.013786569794910442,\n",
       " 0.009694244409177877,\n",
       " 0.03288408826166389,\n",
       " -0.018611006175475175,\n",
       " -0.012643031654614667,\n",
       " 0.037828981436090814,\n",
       " 0.0033852427728389145,\n",
       " -0.030887982332675534,\n",
       " -0.006675057133754159,\n",
       " -0.014177653674265933,\n",
       " -0.007527624922448517,\n",
       " 0.014980164699083254,\n",
       " -0.01468919434748095,\n",
       " -0.019122546848692856,\n",
       " -0.06209196339888923,\n",
       " 0.0009980529644950664,\n",
       " -0.024237953580858118,\n",
       " -0.018440492617736837,\n",
       " -0.04606368897143476,\n",
       " 0.011910920659782498,\n",
       " 0.013275029121693649,\n",
       " 0.004237810561532385,\n",
       " 0.00833013594726495,\n",
       " -0.025090521369553365,\n",
       " -0.01383662655878748,\n",
       " 0.014980164699082366,\n",
       " -0.014859707905220176,\n",
       " 0.009012190178221857,\n",
       " 0.024358410374720307,\n",
       " 0.03748795432061325,\n",
       " -0.0019006775170646861,\n",
       " 0.021459679893159667,\n",
       " -0.036685443295796816,\n",
       " -0.024920007811815026,\n",
       " -0.03549184839162489,\n",
       " -0.006163516460538254,\n",
       " 0.0073070546008331405,\n",
       " 0.04430849663016723,\n",
       " 0.010546812197871347,\n",
       " 0.03424819672357504,\n",
       " -0.05765861089767732,\n",
       " -0.02099819598381991,\n",
       " -0.03719698396901272,\n",
       " -0.03583287550710246,\n",
       " -0.039072633104140664,\n",
       " 0.01310451556395531,\n",
       " 0.019925057873510177,\n",
       " -0.03361619925649695,\n",
       " -0.10250367658300252,\n",
       " 0.03919308989800285,\n",
       " -0.03480979416066887,\n",
       " 0.0015095936377109709,\n",
       " 0.01753786806516544,\n",
       " -0.017758438386781705,\n",
       " 0.05914317615345066,\n",
       " 0.06204190663501219,\n",
       " 0.0001454851757998199,\n",
       " 0.013445542679432876,\n",
       " 0.026745600183065044,\n",
       " -0.008891733384359668,\n",
       " -0.007186597806970951,\n",
       " -0.04163033647022374,\n",
       " 0.020266084988987743,\n",
       " 0.07602401836959949,\n",
       " -0.018781519733214402,\n",
       " -0.006845570691492497,\n",
       " -0.026966170504682196,\n",
       " -0.039072633104140664,\n",
       " -0.002582731748022482,\n",
       " 0.024699437490197873,\n",
       " 0.03254306114618721,\n",
       " 0.0032147292150996876,\n",
       " 0.009353217293699423,\n",
       " 0.061018825288578604,\n",
       " -0.023044358676686194,\n",
       " -0.03242260435232591,\n",
       " 0.06732782692491668,\n",
       " 0.004237810561532385,\n",
       " 0.048059794900424,\n",
       " -0.0452111211827404,\n",
       " 0.047036713553991305,\n",
       " -0.016223816367132216,\n",
       " 0.05880214903797221,\n",
       " 0.005090378350227631,\n",
       " -0.008550706268882102,\n",
       " -0.029523873870764383,\n",
       " 0.04550209153434004,\n",
       " -0.0044583808831495375,\n",
       " 0.024358410374720307,\n",
       " -0.04964447368395053,\n",
       " 0.01259297489073763,\n",
       " -0.017587924829043367,\n",
       " 0.0847202098142823,\n",
       " 0.0015095936377109709,\n",
       " -0.056465015993506285,\n",
       " -0.008380192711143764,\n",
       " 0.001339080079971744,\n",
       " 0.019243003642554157,\n",
       " -0.045722661855956304,\n",
       " 0.05419828297902374,\n",
       " 0.02128916633542044,\n",
       " -0.007186597806970951,\n",
       " 0.004067297003794934,\n",
       " 0.01378656979491133,\n",
       " 0.04618414576529606,\n",
       " -2.502838193940704e-05,\n",
       " 0.01821992229612146,\n",
       " 0.01242246133299929,\n",
       " -0.004799407998627103,\n",
       " 0.006625000369878009,\n",
       " -0.004287867325411199,\n",
       " -0.01895203329095363,\n",
       " 0.0004865122912782738,\n",
       " 0.04072771191765234,\n",
       " -0.041118795797006946,\n",
       " -0.006845570691493386,\n",
       " -0.002412218190283255,\n",
       " 0.02350584258602595,\n",
       " 0.057949581249279625,\n",
       " -0.030035414543980288,\n",
       " -0.021339223099298366,\n",
       " -0.04265341781665821,\n",
       " -0.010426355404009158,\n",
       " 0.037487954320614136,\n",
       " 0.03305460181940223,\n",
       " -0.0274777111778981,\n",
       " 0.006283973254399555,\n",
       " -0.035491848391624004,\n",
       " 0.016685300276471082,\n",
       " 0.0351007645122694,\n",
       " -0.0015596504015880086,\n",
       " -0.010767382519486723,\n",
       " -0.0034352995367168404,\n",
       " -0.002412218190283255,\n",
       " -0.009403274057577349,\n",
       " -0.03941366021961823,\n",
       " 0.08045737087080962,\n",
       " -0.043335472047612456,\n",
       " 0.026745600183064155,\n",
       " 0.012081434217522613,\n",
       " 0.004578837677011727,\n",
       " 0.004919864792489292,\n",
       " 0.02197122056637557,\n",
       " -0.030205928101718627,\n",
       " 0.02930330354914812,\n",
       " -0.009914814730794141,\n",
       " -0.011790463865921197,\n",
       " 0.006283973254401332,\n",
       " -0.00036605549741608456,\n",
       " 0.00884167662048263,\n",
       " 0.01753786806516544,\n",
       " 0.005772432581183651,\n",
       " 0.04072771191765234,\n",
       " 0.04737774066946887,\n",
       " -0.0010481097283721041,\n",
       " 0.0016801071954501978,\n",
       " 0.0652816642320504,\n",
       " -0.0046288944408887644,\n",
       " -0.015371248578436969,\n",
       " -0.005310948671843896,\n",
       " 0.05419828297902374,\n",
       " -0.005993002902798139,\n",
       " 0.01617375960325429,\n",
       " 0.0020211343109286517,\n",
       " -0.003605813094454291,\n",
       " 0.033225115377141456,\n",
       " -0.03378671281423529,\n",
       " -0.02270333156120863,\n",
       " -0.004799407998627103,\n",
       " -0.021509736657037593,\n",
       " -0.02389692646538144,\n",
       " 0.007989108831790048,\n",
       " -0.02270333156120774,\n",
       " 0.028962276433669665,\n",
       " 0.008330135947266726,\n",
       " -0.014007140116526706,\n",
       " -0.03787903819996874,\n",
       " 0.013275029121693649,\n",
       " 0.026745600183064155,\n",
       " -0.017076384155825686,\n",
       " 0.014127596910388007,\n",
       " 0.03680590008965812,\n",
       " -0.002241704632544028,\n",
       " 0.008671163062744291,\n",
       " 0.014298110468127234,\n",
       " -0.006334030018277481,\n",
       " -0.07505099378704294,\n",
       " -0.04504060762500117,\n",
       " -0.00036605549741608456,\n",
       " -0.0274777111778981,\n",
       " 0.018731462969337365,\n",
       " -0.021168709541560027,\n",
       " 0.01770838162290378,\n",
       " 0.04959441692007349,\n",
       " 0.01191092065978161,\n",
       " -0.0034352995367168404,\n",
       " -0.0001955419396777458,\n",
       " -0.03327517214101938,\n",
       " 0.021630193450898005,\n",
       " 0.020948139219942874,\n",
       " 0.01105835287108814,\n",
       " 0.03441871028131427,\n",
       " -0.04282393137439655,\n",
       " -0.03191106367910734,\n",
       " -0.044188039836306814,\n",
       " 0.004919864792488404,\n",
       " 0.022312247681854913,\n",
       " 0.06306498798144489,\n",
       " 0.0286212493181921,\n",
       " -0.02270333156120774,\n",
       " 0.04959441692007438,\n",
       " -0.02628411627372529,\n",
       " 0.05488033720997976,\n",
       " 0.10143053847269101,\n",
       " -0.04879190589525706,\n",
       " -0.05305474483872885,\n",
       " -0.001048109728371216,\n",
       " 0.0011685665222334052,\n",
       " -0.0759035615757373,\n",
       " -0.018440492617737725,\n",
       " 0.015662218930037497,\n",
       " -0.02389692646538144,\n",
       " -0.001218623286110443,\n",
       " 0.04226233393730183,\n",
       " 0.017878895180643894,\n",
       " 0.014809651141344027,\n",
       " -0.021339223099299254,\n",
       " -0.010767382519487612,\n",
       " 0.006966027485354687,\n",
       " -0.0029237588634991596,\n",
       " -0.034468767045191306,\n",
       " -0.016735357040347232,\n",
       " -0.02321487223442631,\n",
       " 0.04277387461051774,\n",
       " 0.0020211343109286517,\n",
       " -0.005822489345058912,\n",
       " -0.05680604310898385,\n",
       " 0.0033852427728389145,\n",
       " -0.05339577195420553,\n",
       " 0.04243284749504106,\n",
       " 0.019584030758030835,\n",
       " -0.005481462229582235,\n",
       " 0.039022576340264514,\n",
       " 0.026916113740803382,\n",
       " -0.0010481097283721041,\n",
       " -0.016564843482608893,\n",
       " -0.06925353282392166,\n",
       " 0.04823030845816234,\n",
       " 0.030496898453319154,\n",
       " -0.014859707905220176,\n",
       " 0.021118652777681213,\n",
       " 0.07875223529342179,\n",
       " -0.006675057133754159,\n",
       " -0.011108409634965177,\n",
       " 0.029985357780104138,\n",
       " -0.04657522964465066,\n",
       " -0.011278923192703516,\n",
       " 0.04396746951469055,\n",
       " 0.053857255863545284,\n",
       " -0.02270333156120774,\n",
       " 0.02776868152949863,\n",
       " -0.0030942724212383865,\n",
       " 0.05402776942128451,\n",
       " -0.04828036522204027,\n",
       " 0.03936360345574208,\n",
       " -0.001048109728371216,\n",
       " 0.009012190178221857,\n",
       " 0.027939195087236968,\n",
       " -0.0056519757873214616,\n",
       " 0.03373665605035914,\n",
       " -0.017246897713564913,\n",
       " 0.0032147292151005757,\n",
       " 0.06732782692491757,\n",
       " -0.010255841846271707,\n",
       " 0.0009980529644950664,\n",
       " -0.02185076377251427,\n",
       " -0.0349803077184081,\n",
       " -0.015200735020697742,\n",
       " -0.014007140116526706,\n",
       " -0.0312290094481531,\n",
       " 0.1172882993424067,\n",
       " -0.036855956853535154,\n",
       " -0.0322520907945858,\n",
       " -0.03208157723684568,\n",
       " -0.05049704147264489,\n",
       " -0.018440492617737725,\n",
       " -0.007527624922447629,\n",
       " -0.03276363146780259,\n",
       " -0.02560206204276927,\n",
       " -0.034468767045191306,\n",
       " -0.0070160842492326125,\n",
       " 0.08113942510176475,\n",
       " 0.10773954010903042,\n",
       " -0.036003389064840796,\n",
       " 0.0035557563305781414,\n",
       " -0.012131490981398763,\n",
       " 0.017026327391948648,\n",
       " 0.018390435853860687,\n",
       " -0.020316141752863892,\n",
       " -0.07198174974774396,\n",
       " 0.02418789681698197,\n",
       " 0.006454486812138782,\n",
       " 0.01242246133299929,\n",
       " -0.00036605549741608456,\n",
       " 0.0146391375836048,\n",
       " -0.03259311791006336,\n",
       " -0.023385385792164648,\n",
       " -0.03634441618032014,\n",
       " -0.045552148298217965,\n",
       " 0.03441871028131427,\n",
       " -0.04657522964465066,\n",
       " -0.03719698396901272,\n",
       " 0.044137983072429776,\n",
       " -0.014689194347481838,\n",
       " 0.0033852427728389145,\n",
       " 0.036123845858702985,\n",
       " 0.016514786718731855,\n",
       " -0.0641381260917564,\n",
       " 0.02623405950984825,\n",
       " -0.01673535704034812,\n",
       " 0.01532119181456082,\n",
       " 0.004237810561534161,\n",
       " 0.05897266259571232,\n",
       " -0.018781519733214402,\n",
       " -0.08357667167398652,\n",
       " 0.012934002006216971,\n",
       " 0.04311490172599708,\n",
       " -0.024408467138596457,\n",
       " 0.014468624025866461,\n",
       " -0.016394329924869666,\n",
       " 0.06511115067431117,\n",
       " 0.008159622389527499,\n",
       " -0.016053302809393877,\n",
       " -0.012643031654614667,\n",
       " -0.02048665531060223,\n",
       " -0.0225328180034694,\n",
       " -0.009232760499837234,\n",
       " -0.06993558705487768,\n",
       " 0.022141734124114798,\n",
       " -0.04248290425891721,\n",
       " -0.025602062042770157,\n",
       " -0.055953475320288604,\n",
       " -0.03191106367910734,\n",
       " 0.0020211343109286517,\n",
       " 0.013275029121693649,\n",
       " -0.030376441659457853,\n",
       " -0.008209679153405425,\n",
       " -0.024237953580858118,\n",
       " -0.039072633104140664,\n",
       " 0.025381491721153893,\n",
       " 0.0035557563305790296,\n",
       " 0.011740407102043271,\n",
       " -0.044870094067261945,\n",
       " 0.04976493047781272,\n",
       " -0.04810985166430104,\n",
       " 0.07210220654160526,\n",
       " -0.041118795797006946,\n",
       " 0.002532674984144556,\n",
       " -0.08459975302041922,\n",
       " -0.009914814730793253,\n",
       " 0.010546812197871347,\n",
       " 0.019584030758031723,\n",
       " -0.018781519733214402,\n",
       " 0.018390435853860687,\n",
       " -0.0516906363768177,\n",
       " -0.006334030018277481,\n",
       " 0.022823788355070818,\n",
       " -0.028841819639808364,\n",
       " 0.004919864792489292,\n",
       " 0.018390435853860687,\n",
       " 0.010717325755610574,\n",
       " 0.0032147292150996876,\n",
       " -0.012813545212354782,\n",
       " 0.010546812197871347,\n",
       " -0.007357111364711066,\n",
       " -0.002412218190282367,\n",
       " 0.0388520627825244,\n",
       " 0.053686742305806945,\n",
       " 0.04669568643851285,\n",
       " 0.006454486812138782,\n",
       " -0.0046288944408887644,\n",
       " 0.013616056237171215,\n",
       " -0.005993002902799027,\n",
       " 0.042944388168256964,\n",
       " 0.028450735760452872,\n",
       " -0.0032647859789776135,\n",
       " 0.005942946138921101,\n",
       " 0.0426033610527794,\n",
       " 0.02043659854672697,\n",
       " 0.0023621614264062174,\n",
       " -0.011790463865920309,\n",
       " 0.06715731336717656,\n",
       " -0.021339223099298366,\n",
       " 0.006966027485355575,\n",
       " 0.009694244409177877,\n",
       " -0.02918284675528593,\n",
       " 0.009012190178221857,\n",
       " 0.06357652865466168,\n",
       " 0.012763488448476856,\n",
       " 0.005772432581182763,\n",
       " 0.002873702099622122,\n",
       " 0.022482761239592364,\n",
       " 0.0108878393133498,\n",
       " 0.014127596910388007,\n",
       " -0.013325085885570687,\n",
       " 0.03271357470392644,\n",
       " -0.030717468774936307,\n",
       " -0.020827682426080685,\n",
       " 0.03288408826166389,\n",
       " 0.0023621614264053292,\n",
       " -0.003605813094454291,\n",
       " 0.017367354507426214,\n",
       " 0.04089822547539157,\n",
       " 0.026063545952109912,\n",
       " -0.05458936685837834,\n",
       " -0.005140435114105557,\n",
       " -0.02543154848503093,\n",
       " 0.02776868152949863,\n",
       " -0.005140435114104669,\n",
       " 0.01191092065978161,\n",
       " 0.01821992229612146,\n",
       " 0.0582906083647563,\n",
       " -0.011790463865920309,\n",
       " -0.009232760499836346,\n",
       " -0.0030942724212383865,\n",
       " -0.025090521369553365,\n",
       " 0.03561230518548708,\n",
       " 0.03424819672357504,\n",
       " 0.015832732487776724,\n",
       " -0.00735711136470929,\n",
       " -0.010255841846271707,\n",
       " -0.03566236194936234,\n",
       " 0.04533157797660259,\n",
       " 0.026575086625325817,\n",
       " -0.011960977423659536,\n",
       " -0.01247251809687544,\n",
       " -0.0070160842492326125,\n",
       " -0.022873845118946967,\n",
       " -0.01230200453913799,\n",
       " -0.001048109728371216,\n",
       " -0.015030221462958515,\n",
       " -0.008891733384359668,\n",
       " -0.013836626558788367,\n",
       " 0.01770838162290378,\n",
       " -0.0015596504015871204,\n",
       " -0.019463573964169534,\n",
       " -0.04282393137439566,\n",
       " 0.011399379986565705,\n",
       " 0.018049408738382233,\n",
       " -0.015200735020697742,\n",
       " 0.010376298640133008,\n",
       " -0.03361619925649695,\n",
       " -0.02628411627372529,\n",
       " -0.02764822473563644,\n",
       " -0.023555899349904763,\n",
       " -0.018781519733214402,\n",
       " 0.01191092065978161,\n",
       " -0.03702647041127438,\n",
       " -0.007357111364710178,\n",
       " 0.01753786806516544,\n",
       " 0.04771876778494555,\n",
       " -0.06703685657331615,\n",
       " -0.012131490981398763,\n",
       " -0.019975114637387215,\n",
       " 0.01975454431577095,\n",
       " -0.01963408752190965,\n",
       " -0.00872121982662133,\n",
       " -0.03924314666187989,\n",
       " -0.03958417377735657,\n",
       " -0.03429825348745297,\n",
       " 0.043285415283736306,\n",
       " -0.0414598229124854,\n",
       " -0.008209679153403648,\n",
       " -0.00650454357601582,\n",
       " 0.03663538653191889,\n",
       " -2.5028381938518862e-05,\n",
       " 0.011740407102043271,\n",
       " 0.02401738325924274,\n",
       " 0.009694244409177877,\n",
       " -0.011960977423660424,\n",
       " 0.0146391375836048,\n",
       " -0.002582731748022482,\n",
       " 0.02197122056637557,\n",
       " 0.017026327391948648,\n",
       " 0.00031599873353904684,\n",
       " -0.004117353767671084,\n",
       " 0.035271278070009515,\n",
       " -0.009403274057577349,\n",
       " -0.019975114637387215,\n",
       " -0.017246897713564913,\n",
       " 0.00798910883178916,\n",
       " 0.017026327391948648,\n",
       " 0.025210978163414666,\n",
       " 0.029644330664626573,\n",
       " 0.008159622389527499,\n",
       " -0.037538011084491174,\n",
       " -0.028841819639808364,\n",
       " -0.02679565694694208,\n",
       " 0.02708662729854172,\n",
       " -0.027989251851113117,\n",
       " -0.03804955175770708,\n",
       " -0.05373679906968398,\n",
       " -0.016223816367132216,\n",
       " -0.046745743202389,\n",
       " 0.03373665605035914,\n",
       " 0.021118652777681213,\n",
       " -0.01895203329095274,\n",
       " -0.02543154848503093,\n",
       " -0.003605813094454291,\n",
       " -0.020486655310604007,\n",
       " 0.012934002006216971,\n",
       " -0.024920007811814138,\n",
       " -0.0414598229124854,\n",
       " 0.0073070546008331405,\n",
       " 0.05010595759329117,\n",
       " 0.04550209153434093,\n",
       " 0.006966027485355575,\n",
       " -0.07351637176739434,\n",
       " 0.004067297003794934,\n",
       " 0.013786569794910442,\n",
       " -0.057999638013155774,\n",
       " -0.0022417046325449164,\n",
       " -0.035491848391624004,\n",
       " 0.0004865122912782738,\n",
       " -0.02031614175286478,\n",
       " -0.023555899349902987,\n",
       " -0.015030221462958515,\n",
       " -0.0020711910748048012,\n",
       " -0.02168025021477593,\n",
       " 0.058802149037973095,\n",
       " 0.04669568643851285,\n",
       " -0.015030221462959403,\n",
       " 0.00031599873353904684,\n",
       " 0.0028737020996212337,\n",
       " -0.01366611300104914,\n",
       " -0.017928951944520932,\n",
       " -0.00036605549741608456,\n",
       " 0.039193089898001965,\n",
       " -0.03327517214101938,\n",
       " -0.027818738293375667,\n",
       " 0.007818595274049933,\n",
       " -0.015712275693915423,\n",
       " -0.025943089158247723,\n",
       " 0.019584030758030835,\n",
       " 0.04618414576529606,\n",
       " 0.023846869701504403,\n",
       " -0.020486655310604007,\n",
       " -0.061580422725672435,\n",
       " -0.0046288944408887644,\n",
       " -0.015712275693915423,\n",
       " -0.01366611300104914,\n",
       " -0.0322520907945858,\n",
       " 0.03765846787835336,\n",
       " -0.004969921556365442,\n",
       " 0.0009980529644941782,\n",
       " 0.013275029121693649,\n",
       " 0.012081434217521725,\n",
       " 0.03817000855156838,\n",
       " 0.07755864038925031,\n",
       " 0.04788928134268566,\n",
       " -0.018440492617736837,\n",
       " 0.0647701235588336,\n",
       " 0.04345592884147376,\n",
       " 0.03288408826166389,\n",
       " 0.014980164699082366,\n",
       " 0.008500649505005065,\n",
       " 0.022141734124115686,\n",
       " 0.03595333230096376,\n",
       " 0.013616056237171215,\n",
       " 0.04089822547539157,\n",
       " 0.010205785082393781,\n",
       " -0.006845570691493386,\n",
       " -0.007186597806970951,\n",
       " 0.03714692720513657,\n",
       " -0.0001955419396777458,\n",
       " -0.011449436750442743,\n",
       " 0.03373665605035914,\n",
       " 0.034759737396790946,\n",
       " -0.0046288944408887644,\n",
       " -0.018781519733214402,\n",
       " -0.05697655666672308,\n",
       " -0.028159765408851456,\n",
       " 0.059313689711189,\n",
       " 0.0006570258490175007,\n",
       " -0.06720737013105449,\n",
       " -0.012643031654614667,\n",
       " 0.025210978163414666,\n",
       " 0.02128916633542044,\n",
       " 0.005772432581183651,\n",
       " -0.06908301926618243,\n",
       " 0.016344273160993517,\n",
       " 0.04294438816825874,\n",
       " -0.014518680789743499,\n",
       " 0.05317520163259015,\n",
       " 0.004919864792489292,\n",
       " -0.023726412907642214,\n",
       " -0.0001955419396777458,\n",
       " 0.021459679893159667,\n",
       " -0.013836626558788367,\n",
       " 0.02930330354914812,\n",
       " -0.025772575600507608,\n",
       " 0.025381491721153004,\n",
       " 0.017367354507426214,\n",
       " 0.0004865122912782738,\n",
       " 0.04430849663016723,\n",
       " -0.06601377522688345,\n",
       " 0.0047493512347500655,\n",
       " -0.03412773992971374,\n",
       " -0.018611006175475175,\n",
       " -0.03463928060293142,\n",
       " -0.012813545212353894,\n",
       " -0.0095737876153148,\n",
       " -0.005651975787320573,\n",
       " 0.0033852427728389145,\n",
       " -0.05220217705003449,\n",
       " 0.025552005278891343,\n",
       " -0.03412773992971374,\n",
       " 0.0044083241192725,\n",
       " 0.03100843912653506,\n",
       " 0.06494063711657283,\n",
       " 0.010035271524655442,\n",
       " 0.018731462969337365,\n",
       " 0.013104515563954422,\n",
       " 0.0298148442223658,\n",
       " -0.019463573964170422,\n",
       " 0.0361238458587021,\n",
       " -0.014348167232003384,\n",
       " -0.03941366021961912,\n",
       " 0.009012190178221857,\n",
       " -0.005140435114103781,\n",
       " 0.0023621614264062174,\n",
       " -0.014859707905220176,\n",
       " 0.04158027970634759,\n",
       " -0.019975114637387215,\n",
       " -0.022191790887992724,\n",
       " 0.009353217293699423,\n",
       " 0.0796048030821157,\n",
       " -0.020145628195125553,\n",
       " 0.016514786718731855,\n",
       " -0.030546955217196192,\n",
       " -0.03361619925649695,\n",
       " -0.05902271935959025,\n",
       " 0.053516228748068606,\n",
       " 0.05095852538198553,\n",
       " 0.03817000855156927,\n",
       " 0.01617375960325429,\n",
       " 0.01890197652707659,\n",
       " -0.030376441659457853,\n",
       " 0.04294438816825785,\n",
       " -0.03208157723684568,\n",
       " -0.05510090753159602,\n",
       " -0.0058224893450598,\n",
       " -0.06123939561019398,\n",
       " -0.005310948671843896,\n",
       " 0.04243284749504195,\n",
       " -0.027989251851113117,\n",
       " -0.016223816367132216,\n",
       " 0.0674983404826559,\n",
       " -0.01315457232783146,\n",
       " -0.047086770317867455,\n",
       " 0.014127596910388007,\n",
       " 0.06187139307727296,\n",
       " 0.033225115377141456,\n",
       " 0.037828981436090814,\n",
       " 0.011228866428827367,\n",
       " 0.02930330354914812,\n",
       " -0.015712275693915423,\n",
       " -0.02202127733025261,\n",
       " 0.03936360345574208,\n",
       " 0.03015587133784159,\n",
       " 0.0008275394067567277,\n",
       " 0.0015095936377109709,\n",
       " -0.016564843482608893,\n",
       " -0.00855070626888299,\n",
       " 0.0015095936377109709,\n",
       " 0.011228866428827367,\n",
       " -0.0020711910748048012,\n",
       " 0.03561230518548708,\n",
       " 0.012081434217521725,\n",
       " -0.03480979416066887,\n",
       " 0.025381491721153004,\n",
       " 0.0074775681585723675,\n",
       " -0.01878151973321529,\n",
       " -0.025943089158247723,\n",
       " 0.019584030758031723,\n",
       " 0.0313494662420144,\n",
       " -0.006675057133755047,\n",
       " -0.0032647859789776135,\n",
       " -0.01451868078974261,\n",
       " 0.09716769952921922,\n",
       " -0.024578980696336572,\n",
       " -0.012643031654615555,\n",
       " -0.028841819639808364,\n",
       " 0.03578281874322542,\n",
       " 0.005601919023444424,\n",
       " -0.015030221462959403,\n",
       " 0.04686619999625208,\n",
       " 0.019243003642554157,\n",
       " 0.017026327391949536,\n",
       " 0.026063545952109912,\n",
       " 0.009864757966916216,\n",
       " 0.0015095936377109709,\n",
       " 0.0009980529644941782,\n",
       " 0.004067297003794046,\n",
       " -0.05527142108933347,\n",
       " 0.028791762875930438,\n",
       " -0.031740550121369004,\n",
       " -0.035321334833885665,\n",
       " 0.03936360345574208,\n",
       " 0.0792637759666368,\n",
       " 0.030837925568798497,\n",
       " 0.002703188541883783,\n",
       " -0.008891733384359668,\n",
       " 0.0047493512347500655,\n",
       " 0.02043659854672608,\n",
       " -0.025943089158247723,\n",
       " 0.042091820379562606,\n",
       " -0.020657168868342346,\n",
       " -0.046063688971435646,\n",
       " -0.014859707905220176,\n",
       " 0.01770838162290378,\n",
       " 0.03424819672357593,\n",
       " 0.04584311864981849,\n",
       " 0.09904334866434761,\n",
       " 0.019925057873510177,\n",
       " -0.027989251851114005,\n",
       " 0.025893032394370685,\n",
       " -0.02321487223442542,\n",
       " -0.03191106367910734,\n",
       " -0.012813545212354782,\n",
       " -0.0008775961706337654,\n",
       " 0.04959441692007349,\n",
       " 0.03868154922478606,\n",
       " -0.007527624922448517,\n",
       " 0.017196840949688763,\n",
       " 0.05914317615345066,\n",
       " 0.035441791627747854,\n",
       " -0.04128930935474617,\n",
       " -0.006504543576014932,\n",
       " 0.02197122056637557,\n",
       " 0.03066741201105838,\n",
       " -0.0013891368438496698,\n",
       " -0.04231239070117976,\n",
       " 0.017196840949687875,\n",
       " -0.016564843482608893,\n",
       " 0.010376298640133008,\n",
       " 0.009182703735960196,\n",
       " 0.022312247681854913,\n",
       " -0.06533172099592743,\n",
       " -0.023555899349902987,\n",
       " -0.0044583808831495375,\n",
       " -0.030717468774936307,\n",
       " 0.020777625662203647,\n",
       " -0.019122546848692856,\n",
       " -0.013495599443309914,\n",
       " -0.031570036563630666,\n",
       " 0.0146391375836048,\n",
       " -0.03890211954640144,\n",
       " 0.013616056237171215,\n",
       " -0.029523873870764383,\n",
       " -0.02321487223442631,\n",
       " -0.031570036563630666,\n",
       " 0.05692649990284515,\n",
       " -0.01230200453913799,\n",
       " -0.0056519757873214616,\n",
       " -0.011108409634966065,\n",
       " 0.014809651141344027,\n",
       " -0.01690587059808646,\n",
       " -0.03958417377735657,\n",
       " 0.006625000369878009,\n",
       " -0.01213149098139965,\n",
       " 0.04021617124443555,\n",
       " -0.015371248578436969,\n",
       " 0.010376298640133008,\n",
       " -0.023555899349902987,\n",
       " -0.016223816367131327,\n",
       " 0.019925057873510177,\n",
       " 0.04379695595695132,\n",
       " 0.029644330664625684,\n",
       " 0.007989108831788272,\n",
       " 0.05249314740163502,\n",
       " -0.011449436750443631,\n",
       " -0.033104658583281044,\n",
       " -0.04384701272082925,\n",
       " -0.029523873870763495,\n",
       " -0.028841819639808364,\n",
       " 0.033225115377142345,\n",
       " 0.039022576340263626,\n",
       " -2.5028381938518862e-05,\n",
       " -0.004799407998627103,\n",
       " -0.04879190589525706,\n",
       " 0.020266084988987743,\n",
       " -0.01315457232783146,\n",
       " 0.023846869701503515,\n",
       " -0.015712275693915423,\n",
       " 0.021459679893159667,\n",
       " 0.015662218930038385,\n",
       " -0.010767382519486723,\n",
       " -0.01895203329095363,\n",
       " 0.036294359416441324,\n",
       " -0.010085328288533368,\n",
       " 0.013104515563954422,\n",
       " 0.02043659854672608,\n",
       " -0.01366611300104914,\n",
       " -0.020657168868343234,\n",
       " -0.013666113001050029,\n",
       " 0.016685300276471082,\n",
       " 0.014127596910388007,\n",
       " ...]"
      ]
     },
     "execution_count": 71,
     "metadata": {},
     "output_type": "execute_result"
    }
   ],
   "source": [
    "difference"
   ]
  },
  {
   "cell_type": "code",
   "execution_count": 72,
   "metadata": {
    "colab": {},
    "colab_type": "code",
    "id": "VlzpYTkYFcv_"
   },
   "outputs": [
    {
     "data": {
      "image/png": "[encoded data removed]",
      "text/plain": [
       "<Figure size 640x480 with 1 Axes>"
      ]
     },
     "metadata": {},
     "output_type": "display_data"
    }
   ],
   "source": [
    "# Make a variable called 'histo', and assign to it the result of plotting a histogram of the difference list. \n",
    "histo = plt.hist(difference)"
   ]
  },
  {
   "cell_type": "code",
   "execution_count": 73,
   "metadata": {
    "colab": {},
    "colab_type": "code",
    "id": "KhqgDFd3FcwB"
   },
   "outputs": [
    {
     "name": "stdout",
     "output_type": "stream",
     "text": [
      "0.21691827382578666\n"
     ]
    }
   ],
   "source": [
    "# Now make a variable called obs_difference, and assign it the result of the mean of our 'apple' variable and the mean of our 'google variable'\n",
    "obs_difference = df[df['platform'] == 'apple']['Rating'].mean() - df[df['platform'] == 'google']['Rating'].mean()\n",
    "\n",
    "# Make this difference absolute with the built-in abs() function. \n",
    "diff = abs(obs_difference)\n",
    "\n",
    "# Print out this value; it should be 0.1420605474512291. \n",
    "print(diff)"
   ]
  },
  {
   "cell_type": "markdown",
   "metadata": {
    "colab_type": "text",
    "id": "QUNuuSgDFcwE"
   },
   "source": [
    "## Stage 4 -  Evaluating and concluding\n",
    "### 4a. What is our conclusion?"
   ]
  },
  {
   "cell_type": "code",
   "execution_count": 75,
   "metadata": {
    "colab": {},
    "colab_type": "code",
    "id": "XMQHnqx1FcwF"
   },
   "outputs": [
    {
     "name": "stdout",
     "output_type": "stream",
     "text": [
      "P-value: 0.0\n"
     ]
    }
   ],
   "source": [
    "'''\n",
    "What do we know? \n",
    "\n",
    "Recall: The p-value of our observed data is just the proportion of the data given the null that's at least as extreme as that observed data.\n",
    "\n",
    "As a result, we're going to count how many of the differences in our difference list are at least as extreme as our observed difference.\n",
    "\n",
    "If less than or equal to 5% of them are, then we will reject the Null. \n",
    "'''\n",
    "count = sum(abs(perm_diff) >= diff for perm_diff in difference)\n",
    "\n",
    "p_value = count / len(difference)\n",
    "\n",
    "print(f\"P-value: {p_value}\")"
   ]
  },
  {
   "cell_type": "markdown",
   "metadata": {
    "colab_type": "text",
    "id": "4RTofY9wFcwI"
   },
   "source": [
    "### 4b. What is our decision?\n",
    "So actually, zero differences are at least as extreme as our observed difference!\n",
    "\n",
    "So the p-value of our observed data is 0. \n",
    "\n",
    "It doesn't matter which significance level we pick; our observed data is statistically significant, and we reject the Null.\n",
    "\n",
    "We conclude that platform does impact on ratings. Specifically, we should advise our client to integrate **only Google Play** into their operating system interface. "
   ]
  },
  {
   "cell_type": "markdown",
   "metadata": {
    "colab_type": "text",
    "id": "Cu_eh7fTFcwJ"
   },
   "source": [
    "### 4c. Other statistical tests, and next steps\n",
    "The test we used here is the Permutation test. This was appropriate because our data were not normally distributed! \n",
    "\n",
    "As we've seen in Professor Spiegelhalter's book, there are actually many different statistical tests, all with different assumptions. How many of these different statistical tests can you remember? How much do you remember about what the appropriate conditions are under which to use them? \n",
    "\n",
    "Make a note of your answers to these questions, and discuss them with your mentor at your next call. \n"
   ]
  }
 ],
 "metadata": {
  "colab": {
   "collapsed_sections": [
    "5fbRq2MZFcvq",
    "4RTofY9wFcwI",
    "Cu_eh7fTFcwJ"
   ],
   "name": "Springboard Apps project - Tier 3 - Complete.ipynb",
   "provenance": []
  },
  "kernelspec": {
   "display_name": "Python 3 (ipykernel)",
   "language": "python",
   "name": "python3"
  },
  "language_info": {
   "codemirror_mode": {
    "name": "ipython",
    "version": 3
   },
   "file_extension": ".py",
   "mimetype": "text/x-python",
   "name": "python",
   "nbconvert_exporter": "python",
   "pygments_lexer": "ipython3",
   "version": "3.11.9"
  }
 },
 "nbformat": 4,
 "nbformat_minor": 4
}
